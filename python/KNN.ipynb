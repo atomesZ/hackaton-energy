{
 "cells": [
  {
   "cell_type": "code",
   "execution_count": 2,
   "metadata": {},
   "outputs": [
    {
     "name": "stdout",
     "output_type": "stream",
     "text": [
      "############################\n",
      "############################\n",
      "#####################\n",
      "['CTRL', 'CTRL', 'SUPPR', 'CTRL', '2', 'CTRL', 'CTRL', 'CTRL', 'CTRL', 'CTRL', 'CTRL', 'CTRL', 'CTRL', 'CTRL', 'CTRL', 'CTRL', 'CTRL', 'CTRL', 'SUPPR', 'SUPPR', 'SUPPR', 'SUPPR', '0', '0', '0', 'SUPPR', 'SUPPR', 'SUPPR', 'SUPPR', 'SUPPR', 'SUPPR', '2', 'SUPPR', '0', '0', '0', 'SUPPR', 'SUPPR', 'SUPPR', 'SUPPR', '0', 'SUPPR']\n",
      "#####################\n",
      "['CTRL', 'CTRL', 'SUPPR', 'SUPPR', 'SUPPR', 'SUPPR', '0', '0', '0', 'SUPPR', 'SUPPR', 'SUPPR', 'SUPPR', 'SUPPR', 'SUPPR', '2', 'SUPPR', '0', '0', '0', 'SUPPR', 'SUPPR', 'SUPPR', 'SUPPR', '0', 'SUPPR', 'SUPPR', 'SUPPR', 'SUPPR', 'SUPPR', '0', 'SUPPR', 'SUPPR', 'SUPPR', 'SUPPR', 'SUPPR', 'SUPPR', 'SUPPR', 'SUPPR', '0', '0', '0']\n",
      "#####################\n",
      "['CTRL', 'SUPPR', 'SUPPR', 'SUPPR', 'SUPPR', '0', '0', '0', 'SUPPR', 'SUPPR', 'SUPPR', 'SUPPR', 'SUPPR', 'SUPPR', '2', 'SUPPR', '0', '0', '0', 'SUPPR', 'SUPPR', 'SUPPR', 'SUPPR', '0', 'SUPPR', 'SUPPR', 'SUPPR', 'SUPPR', 'SUPPR', '0', 'SUPPR', 'SUPPR', 'SUPPR', 'SUPPR', 'SUPPR', 'SUPPR', 'SUPPR', 'SUPPR', '0', '0', '0', '0']\n",
      "#####################\n",
      "['CTRL', 'SUPPR', 'SUPPR', '0', 'SUPPR', 'SUPPR', 'P', '0', 'SUPPR', '0', 'SUPPR', 'SUPPR', 'SUPPR', '0', '0', 'SUPPR', 'SUPPR', '0', 'SUPPR', 'SUPPR', 'SUPPR', 'SUPPR', 'SUPPR', 'SUPPR', 'SUPPR', 'SUPPR', '0', 'SUPPR', 'SUPPR', '0', 'SUPPR', 'SUPPR', 'SUPPR', 'SUPPR', 'SUPPR', '0', 'SUPPR', 'SUPPR', 'SUPPR', 'SUPPR', 'SUPPR', '0']\n",
      "#####################\n",
      "['CTRL', 'SUPPR', 'SUPPR', 'SUPPR', 'SUPPR', 'SUPPR', 'SUPPR', 'SUPPR', 'SUPPR', 'SUPPR', 'SUPPR', 'SUPPR', 'SUPPR', 'SUPPR', 'P', '0', 'SUPPR', 'SUPPR', 'SUPPR', 'SUPPR', 'SUPPR', 'SUPPR', 'SUPPR', 'SUPPR', 'SUPPR', 'SUPPR', 'SUPPR', '5', '0', '0', 'SUPPR', '0', 'SUPPR', 'SUPPR', 'SUPPR', '0', 'SUPPR', 'SUPPR', 'SUPPR', 'SUPPR', 'SUPPR', '0']\n",
      "#####################\n",
      "['CTRL', 'SUPPR', 'SUPPR', 'SUPPR', '0', '0', 'SUPPR', 'SUPPR', 'SUPPR', 'M', 'SUPPR', 'SUPPR', 'SUPPR', 'SUPPR', 'SUPPR', 'SUPPR', 'SUPPR', 'SUPPR', 'SUPPR', 'SUPPR', 'SUPPR', 'SUPPR', 'SUPPR', 'CTRL', 'CTRL', 'CTRL', 'CTRL', '3', 'Q', '2', 'CTRL', '4', 'CTRL', '2', 'CTRL', '2', '0', '8', 'E', '6', 'CTRL', 'B']\n"
     ]
    }
   ],
   "source": [
    "from sklearn.neighbors import KNeighborsClassifier\n",
    "\n",
    "from dataset_manager import *\n",
    "from predict import *\n",
    "\n",
    "train_dataset, test_dataset = get_dataset()\n",
    "\n",
    "X_train, Y_train = get_X_Y(train_dataset)\n",
    "\n",
    "X_test, Y_test = get_X_Y(test_dataset)\n",
    "\n",
    "    \n",
    "model = KNeighborsClassifier(n_neighbors=5)\n",
    "model.fit(X_train, Y_train)\n",
    "\n",
    "prediction_list = get_prediction_list(model)\n",
    "\n",
    "#print(prediction_list)\n",
    "\n",
    "get_creds(prediction_list)\n"
   ]
  },
  {
   "cell_type": "code",
   "execution_count": 3,
   "metadata": {
    "scrolled": false
   },
   "outputs": [
    {
     "name": "stdout",
     "output_type": "stream",
     "text": [
      "I 0.7902180318208604\n",
      "D 0.47074756229685805\n",
      "2 0.3371404399323181\n",
      "CTRL 0.976401179941003\n",
      "E 0.4711688311688312\n",
      "J 0.7051926298157454\n",
      "M 0.4542356377799416\n",
      "8 0.20976067573908963\n",
      "R 0.46149289099526064\n",
      "Z 0.4552893045002922\n",
      "0 0.49184581171237957\n",
      "SPACE 0.3426997245179063\n",
      "5 0.38730025231286797\n",
      "W 0.20326530612244897\n",
      "SUPPR 0.6593186372745491\n",
      "Y 0.21233859397417504\n",
      "Q 0.3038779402415766\n",
      "L 0.8658847526772055\n",
      "9 0.4165442976015663\n",
      "B 0.4456654456654457\n",
      "O 0.8475862068965517\n",
      "7 0.3297367285282693\n",
      "NOKEY 0.957212174680194\n",
      "P 0.5394665215024497\n",
      "U 0.2306311696081364\n",
      "X 0.36992040217846667\n",
      "ENTER 0.8468286099865048\n",
      "3 0.23680456490727533\n",
      "SHIFT 0.9761163032191069\n",
      "4 0.18136850783182193\n",
      "6 0.41798642533936653\n",
      "F 0.535796766743649\n",
      "H 0.3786359077231695\n",
      "S 0.48924022837066317\n",
      "T 0.2963908129784907\n",
      "A 0.5196017423771002\n",
      "1 0.3358458961474037\n",
      "C 0.8355855855855856\n",
      "V 0.6828054298642534\n",
      "K 0.8218239325250395\n",
      "G 0.46480511925538104\n",
      "N 0.7625482625482626\n",
      "accuracy:  0.5170744105925585\n"
     ]
    }
   ],
   "source": [
    "def compute_accuracy():\n",
    "    accuracy = {}\n",
    "    accuracy_count = {}\n",
    "    \n",
    "    preds_brut = model.predict(np.array(X_test))\n",
    "    \n",
    "    for pred, y in zip(preds_brut, Y_test):\n",
    "        if pred == y:\n",
    "            if y not in accuracy:\n",
    "                accuracy[y] = 0\n",
    "                accuracy_count[y] = 0\n",
    "            accuracy[y] += 1\n",
    "        if y not in accuracy_count:\n",
    "            accuracy_count[y] = 0\n",
    "        accuracy_count[y] += 1\n",
    "\n",
    "\n",
    "    for key in accuracy:\n",
    "        accuracy[key] /= accuracy_count[key]\n",
    "\n",
    "    return accuracy\n",
    "    \n",
    "accuracy = compute_accuracy()\n",
    "for key, acc in accuracy.items():\n",
    "    print(key, acc)\n",
    "    \n",
    "print(\"accuracy: \", sum(accuracy.values()) / 42)"
   ]
  },
  {
   "cell_type": "code",
   "execution_count": null,
   "metadata": {},
   "outputs": [],
   "source": []
  }
 ],
 "metadata": {
  "kernelspec": {
   "display_name": "Python 3",
   "language": "python",
   "name": "python3"
  },
  "language_info": {
   "codemirror_mode": {
    "name": "ipython",
    "version": 3
   },
   "file_extension": ".py",
   "mimetype": "text/x-python",
   "name": "python",
   "nbconvert_exporter": "python",
   "pygments_lexer": "ipython3",
   "version": "3.6.13"
  }
 },
 "nbformat": 4,
 "nbformat_minor": 4
}
