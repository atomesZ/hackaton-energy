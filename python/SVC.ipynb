{
 "cells": [
  {
   "cell_type": "code",
   "execution_count": 1,
   "metadata": {},
   "outputs": [
    {
     "name": "stdout",
     "output_type": "stream",
     "text": [
      "############################\n",
      "############################\n",
      "#####################\n",
      "['CTRL', '0', 'SUPPR', 'SUPPR', '0', '0', 'SUPPR', '0', 'SUPPR', 'M', '0', '0', '0', '0', 'SUPPR', '0', '0', '0', 'SUPPR', 'SUPPR', 'SUPPR', 'SUPPR', '0', 'CTRL', 'CTRL', 'CTRL', '2', '2', 'F', '2', 'L', '2', '2', 'CTRL', 'L', 'L', 'G', 'K', '9', '8', '0', '2']\n"
     ]
    }
   ],
   "source": [
    "from sklearn.svm import SVC\n",
    "\n",
    "from dataset_manager import *\n",
    "from predict import *\n",
    "\n",
    "# Récupération des données d'entraînement et de prédiction\n",
    "train_dataset, test_dataset = get_dataset()\n",
    "\n",
    "X_train, Y_train = get_X_Y(train_dataset)\n",
    "\n",
    "X_test, Y_test = get_X_Y(test_dataset)\n",
    "\n",
    "\n",
    "# Création du modèle et entraînement\n",
    "model = SVC()\n",
    "model.fit(X_train, Y_train)\n",
    "\n",
    "# Prédiction à partir des données\n",
    "prediction_list = get_prediction_list(model)\n",
    "\n",
    "get_creds(prediction_list)\n"
   ]
  },
  {
   "cell_type": "code",
   "execution_count": 1,
   "metadata": {},
   "outputs": [
    {
     "name": "stdout",
     "output_type": "stream",
     "text": [
      "############################\n",
      "############################\n",
      "#####################\n",
      "['CTRL', '0', 'SUPPR', 'CTRL', 'L', 'CTRL', '1', '8', 'H', 'T', 'CTRL', 'B', 'CTRL', 'L', 'I', '3', 'G', 'L', 'F', 'CTRL', 'E', 'R', 'CTRL', 'CTRL', 'L', 'Z', 'CTRL', '3', 'L', 'E', 'K', 'Z', 'A', 'CTRL', 'L', 'E', 'Q', 'Z', 'K', 'E', 'CTRL', 'L']\n",
      "#####################\n",
      "['CTRL', 'CTRL', 'SUPPR', 'ENTER', 'CTRL', 'CTRL', 'CTRL', 'CTRL', 'CTRL', '0', 'CTRL', 'CTRL', 'CTRL', 'CTRL', 'CTRL', 'CTRL', 'CTRL', '4', 'SUPPR', 'SUPPR', 'CTRL', 'SUPPR', 'ENTER', '0', 'CTRL', 'SUPPR', '1', 'SUPPR', 'SUPPR', 'SUPPR', '4', 'SUPPR', 'SUPPR', 'SUPPR', 'SUPPR', 'SUPPR', 'SUPPR', 'SUPPR', 'ENTER', 'SHIFT', 'ENTER', 'SUPPR']\n",
      "#####################\n",
      "['CTRL', '4', 'SUPPR', 'SUPPR', 'CTRL', 'SUPPR', 'ENTER', '0', 'CTRL', 'SUPPR', '1', 'SUPPR', 'SUPPR', 'SUPPR', '4', 'SUPPR', 'SUPPR', 'SUPPR', 'SUPPR', 'SUPPR', 'SUPPR', 'SUPPR', 'ENTER', 'SHIFT', 'ENTER', 'SUPPR', 'SUPPR', 'SUPPR', 'SUPPR', 'SUPPR', 'SUPPR', 'SUPPR', 'SUPPR', 'SUPPR', 'SUPPR', 'SUPPR', 'SUPPR', 'SUPPR', 'SUPPR', 'SUPPR', 'SUPPR', 'SUPPR']\n",
      "#####################\n",
      "['CTRL', 'SHIFT', 'SUPPR', 'SUPPR', 'SUPPR', 'SUPPR', 'SUPPR', 'SUPPR', 'SUPPR', 'SUPPR', 'SUPPR', 'SUPPR', 'SUPPR', 'SUPPR', 'SUPPR', '2', 'SUPPR', 'ENTER', 'SUPPR', 'SUPPR', 'ENTER', 'SUPPR', 'SUPPR', 'SUPPR', 'SUPPR', 'SUPPR', 'SUPPR', 'CTRL', 'SUPPR', 'SUPPR', 'SUPPR', 'CTRL', 'SUPPR', 'SUPPR', 'SUPPR', 'SUPPR', 'SUPPR', 'SUPPR', 'SUPPR', '0', 'SUPPR', 'SHIFT']\n",
      "#####################\n",
      "['CTRL', 'SUPPR', 'SUPPR', 'SUPPR', 'CTRL', 'SUPPR', 'SUPPR', 'SUPPR', 'SUPPR', 'SUPPR', 'SUPPR', 'SUPPR', '0', 'SUPPR', 'SHIFT', 'SUPPR', 'SUPPR', 'ENTER', 'SUPPR', 'SUPPR', 'SUPPR', 'ENTER', 'SUPPR', 'SUPPR', 'SUPPR', 'SUPPR', 'SUPPR', 'SUPPR', 'SUPPR', 'SUPPR', 'ENTER', '3', 'SUPPR', 'SUPPR', 'SUPPR', 'SUPPR', 'SUPPR', 'CTRL', 'SUPPR', 'SUPPR', 'SUPPR', 'CTRL']\n",
      "#####################\n",
      "['CTRL', 'SUPPR', 'SUPPR', 'SUPPR', 'SUPPR', 'SUPPR', 'SUPPR', 'SUPPR', '0', 'SUPPR', 'SHIFT', 'SUPPR', 'SUPPR', 'ENTER', 'SUPPR', 'SUPPR', 'SUPPR', 'ENTER', 'SUPPR', 'SUPPR', 'SUPPR', 'SUPPR', 'SUPPR', 'SUPPR', 'SUPPR', 'SUPPR', 'ENTER', '3', 'SUPPR', 'SUPPR', 'SUPPR', 'SUPPR', 'SUPPR', 'CTRL', 'SUPPR', 'SUPPR', 'SUPPR', 'CTRL', 'SUPPR', '4', 'SUPPR', 'SUPPR']\n",
      "#####################\n",
      "['CTRL', 'SUPPR', 'SUPPR', 'SUPPR', 'CTRL', 'SUPPR', '4', 'SUPPR', 'SUPPR', 'SUPPR', 'SUPPR', 'SUPPR', 'SHIFT', 'SHIFT', 'ENTER', 'SUPPR', 'SUPPR', 'SUPPR', 'SUPPR', 'SUPPR', 'SUPPR', 'SUPPR', 'SHIFT', 'SUPPR', 'SUPPR', 'SUPPR', 'S', 'SUPPR', 'ENTER', 'SUPPR', 'SUPPR', 'SUPPR', 'SUPPR', 'CTRL', 'SUPPR', '4', 'SUPPR', 'SUPPR', 'CTRL', 'SUPPR', 'SUPPR', 'SUPPR']\n",
      "#####################\n",
      "['CTRL', 'SUPPR', 'SUPPR', 'SUPPR', 'SUPPR', 'CTRL', 'SUPPR', 'SUPPR', 'SUPPR', 'SHIFT', 'SUPPR', 'SUPPR', 'SUPPR', 'SUPPR', 'SUPPR', 'SUPPR', 'SUPPR', 'CTRL', 'SUPPR', 'SUPPR', 'CTRL', 'SUPPR', 'SUPPR', 'SUPPR', 'SUPPR', 'SUPPR', 'SUPPR', 'SUPPR', 'SUPPR', 'SUPPR', 'SUPPR', 'ENTER', 'SUPPR', 'CTRL', 'SUPPR', 'SUPPR', 'SUPPR', 'SUPPR', 'SUPPR', 'SUPPR', 'SUPPR', 'SUPPR']\n",
      "#####################\n",
      "['CTRL', 'SUPPR', 'SUPPR', 'SUPPR', 'SHIFT', 'SUPPR', 'SUPPR', 'SUPPR', 'SUPPR', 'SUPPR', 'SUPPR', 'SUPPR', 'CTRL', 'SUPPR', 'SUPPR', 'CTRL', 'SUPPR', 'SUPPR', 'SUPPR', 'SUPPR', 'SUPPR', 'SUPPR', 'SUPPR', 'SUPPR', 'SUPPR', 'SUPPR', 'ENTER', 'SUPPR', 'CTRL', 'SUPPR', 'SUPPR', 'SUPPR', 'SUPPR', 'SUPPR', 'SUPPR', 'SUPPR', 'SUPPR', 'SUPPR', 'SUPPR', 'SUPPR', 'SUPPR', 'SUPPR']\n",
      "#####################\n",
      "['CTRL', 'SUPPR', 'SUPPR', 'CTRL', 'SUPPR', 'SUPPR', 'SUPPR', 'SUPPR', 'SUPPR', 'SUPPR', 'SUPPR', 'SUPPR', 'SUPPR', 'SUPPR', 'ENTER', 'SUPPR', 'CTRL', 'SUPPR', 'SUPPR', 'SUPPR', 'SUPPR', 'SUPPR', 'SUPPR', 'SUPPR', 'SUPPR', 'SUPPR', 'SUPPR', 'SUPPR', 'SUPPR', 'SUPPR', 'SUPPR', 'SUPPR', 'SUPPR', 'SUPPR', 'SUPPR', 'SUPPR', 'SUPPR', 'SUPPR', 'SUPPR', 'SUPPR', 'SUPPR', 'SUPPR']\n",
      "#####################\n",
      "['CTRL', 'SUPPR', 'SUPPR', 'SUPPR', 'SUPPR', 'SUPPR', 'SUPPR', 'SUPPR', 'SUPPR', 'SUPPR', 'SUPPR', 'ENTER', 'SUPPR', 'CTRL', 'SUPPR', 'SUPPR', 'SUPPR', 'SUPPR', 'SUPPR', 'SUPPR', 'SUPPR', 'SUPPR', 'SUPPR', 'SUPPR', 'SUPPR', 'SUPPR', 'SUPPR', 'SUPPR', 'SUPPR', 'SUPPR', 'SUPPR', 'SUPPR', 'SUPPR', 'SUPPR', 'SUPPR', 'SUPPR', 'SUPPR', 'SUPPR', 'SUPPR', 'SUPPR', 'CTRL', 'ENTER']\n",
      "#####################\n",
      "['CTRL', 'SUPPR', 'SUPPR', 'SUPPR', 'SUPPR', 'SUPPR', 'SUPPR', 'SUPPR', 'SUPPR', 'SUPPR', 'SUPPR', 'SUPPR', 'SUPPR', 'SUPPR', 'SUPPR', 'SUPPR', 'SUPPR', 'SUPPR', 'SUPPR', 'SUPPR', 'SUPPR', 'SUPPR', 'SUPPR', 'SUPPR', 'SUPPR', 'SUPPR', 'SUPPR', 'CTRL', 'ENTER', 'SUPPR', 'SUPPR', 'SUPPR', 'SUPPR', 'SUPPR', '0', 'SUPPR', 'SHIFT', 'SUPPR', 'SHIFT', 'SUPPR', 'SUPPR', 'SUPPR']\n",
      "#####################\n",
      "['CTRL', 'ENTER', 'SUPPR', 'SUPPR', 'SUPPR', 'SUPPR', 'SUPPR', '0', 'SUPPR', 'SHIFT', 'SUPPR', 'SHIFT', 'SUPPR', 'SUPPR', 'SUPPR', 'SUPPR', 'SUPPR', 'SUPPR', 'SUPPR', 'SUPPR', 'SUPPR', 'SUPPR', 'SUPPR', 'SUPPR', '0', 'SUPPR', 'SUPPR', 'SUPPR', 'SUPPR', 'SUPPR', 'SUPPR', 'SUPPR', 'SUPPR', '0', 'SUPPR', 'CTRL', 'SUPPR', 'SUPPR', 'SHIFT', 'SUPPR', 'SUPPR', 'CTRL']\n",
      "#####################\n",
      "['CTRL', 'SUPPR', 'SUPPR', 'SHIFT', 'SUPPR', 'SUPPR', 'CTRL', 'SUPPR', 'CTRL', '4', 'SUPPR', 'SUPPR', 'SUPPR', 'SUPPR', 'SUPPR', 'SUPPR', 'SUPPR', 'SUPPR', 'SUPPR', 'SUPPR', 'SUPPR', 'SUPPR', 'SUPPR', 'SUPPR', 'SUPPR', 'SUPPR', 'SUPPR', 'SUPPR', 'SUPPR', 'SUPPR', 'SUPPR', 'SUPPR', 'SUPPR', 'SUPPR', 'ENTER', 'CTRL', 'SUPPR', 'SUPPR', 'SUPPR', 'SUPPR', 'SUPPR', 'CTRL']\n",
      "#####################\n",
      "['CTRL', '4', 'SUPPR', 'SUPPR', 'SUPPR', 'SUPPR', 'SUPPR', 'SUPPR', 'SUPPR', 'SUPPR', 'SUPPR', 'SUPPR', 'SUPPR', 'SUPPR', 'SUPPR', 'SUPPR', 'SUPPR', 'SUPPR', 'SUPPR', 'SUPPR', 'SUPPR', 'SUPPR', 'SUPPR', 'SUPPR', 'SUPPR', 'SUPPR', 'ENTER', 'CTRL', 'SUPPR', 'SUPPR', 'SUPPR', 'SUPPR', 'SUPPR', 'CTRL', 'SUPPR', 'SUPPR', 'SUPPR', 'SUPPR', 'SUPPR', 'SUPPR', 'SUPPR', 'SUPPR']\n",
      "#####################\n",
      "['CTRL', 'SUPPR', 'SUPPR', 'SUPPR', 'SUPPR', 'SUPPR', 'CTRL', 'SUPPR', 'SUPPR', 'SUPPR', 'SUPPR', 'SUPPR', 'SUPPR', 'SUPPR', 'SUPPR', 'ENTER', 'SUPPR', 'SUPPR', 'SUPPR', 'SUPPR', 'SUPPR', 'SUPPR', 'SUPPR', 'ENTER', 'SUPPR', 'SUPPR', 'SUPPR', 'SUPPR', 'SUPPR', 'K', '0', 'CTRL', 'CTRL', 'X', 'CTRL', 'L', '2', 'CTRL', 'CTRL', '5', 'K', 'CTRL']\n",
      "#####################\n",
      "['CTRL', 'SUPPR', 'SUPPR', 'SUPPR', 'SUPPR', 'SUPPR', 'SUPPR', 'SUPPR', 'SUPPR', 'ENTER', 'SUPPR', 'SUPPR', 'SUPPR', 'SUPPR', 'SUPPR', 'SUPPR', 'SUPPR', 'ENTER', 'SUPPR', 'SUPPR', 'SUPPR', 'SUPPR', 'SUPPR', 'K', '0', 'CTRL', 'CTRL', 'X', 'CTRL', 'L', '2', 'CTRL', 'CTRL', '5', 'K', 'CTRL', '7', 'CTRL', 'K', '7', 'E', 'L']\n",
      "#####################\n",
      "['CTRL', 'ENTER', 'SUPPR', 'SHIFT', 'M', 'SHIFT', 'SUPPR', 'SHIFT', 'SHIFT', 'SHIFT', 'SHIFT', 'SHIFT', 'SHIFT', 'SHIFT', 'SHIFT', 'SHIFT', 'SHIFT', 'SHIFT', 'SHIFT', 'SHIFT', 'SHIFT', 'SHIFT', 'SHIFT', 'SHIFT', 'SHIFT', 'SHIFT', 'SHIFT', 'SHIFT', 'SHIFT', 'SHIFT', 'SHIFT', 'SHIFT', 'SHIFT', 'SHIFT', 'SHIFT', 'SHIFT', 'SHIFT', 'SHIFT', 'SHIFT', 'SHIFT', 'SHIFT', 'SHIFT']\n",
      "#####################\n",
      "['CTRL', 'CTRL', 'SUPPR', 'I', '9', 'G', 'I', 'CTRL', 'A', '0', 'B', 'ENTER', 'ENTER', '4', 'ENTER', 'ENTER', 'ENTER', 'ENTER', '4', 'ENTER', '4', 'ENTER', '4', 'ENTER', '4', '3', '4', '0', '4', 'ENTER', '4', 'ENTER', '2', '4', '4', 'ENTER', 'ENTER', '4', '4', 'ENTER', 'ENTER', '4']\n"
     ]
    }
   ],
   "source": [
    "from sklearn.svm import SVC\n",
    "\n",
    "from dataset_manager import *\n",
    "from predict import *\n",
    "\n",
    "# Récupération des données d'entraînement et de prédiction\n",
    "train_dataset, test_dataset = get_dataset()\n",
    "\n",
    "X_train, Y_train = get_X_Y(train_dataset)\n",
    "\n",
    "X_test, Y_test = get_X_Y(test_dataset)\n",
    "\n",
    "\n",
    "# Création du modèle et entraînement\n",
    "model = SVC(kernel=\"linear\", C=0.025, random_state=101)\n",
    "model.fit(X_train, Y_train)\n",
    "\n",
    "# Prédiction à partir des données\n",
    "prediction_list = get_prediction_list(model)\n",
    "\n",
    "get_creds(prediction_list)\n"
   ]
  }
 ],
 "metadata": {
  "kernelspec": {
   "display_name": "ml_env",
   "language": "python",
   "name": "ml_env"
  },
  "language_info": {
   "codemirror_mode": {
    "name": "ipython",
    "version": 3
   },
   "file_extension": ".py",
   "mimetype": "text/x-python",
   "name": "python",
   "nbconvert_exporter": "python",
   "pygments_lexer": "ipython3",
   "version": "3.8.5"
  }
 },
 "nbformat": 4,
 "nbformat_minor": 4
}
