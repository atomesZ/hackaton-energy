{
 "cells": [
  {
   "cell_type": "markdown",
   "id": "corrected-oxford",
   "metadata": {},
   "source": [
    "# Stratégie"
   ]
  },
  {
   "cell_type": "markdown",
   "id": "valuable-ballet",
   "metadata": {},
   "source": [
    "Avec trame_show, on a pu récupérer les graphes des trames avec les 17 pics.\n",
    "A partir de celà, on a réuni sous forme de tableau les principaux pics/pics significatifs."
   ]
  },
  {
   "cell_type": "raw",
   "id": "unknown-modern",
   "metadata": {},
   "source": [
    "KEY  NUM PIC    INTENSITE\n",
    "G -> 9, 10      1,75\n",
    "3 -> 3, 4       1,5\n",
    "V -> 8, 9       2,25\n",
    "Z -> 7, 8       2\n",
    "5 -> 10         1,75\n",
    "0 -> 2, 3       1,75\n",
    "M -> 1, 2       2/1,75\n",
    "P -> 1, 2       2/1,75\n",
    "Y -> 9, 10      2\n",
    "I -> 12, 13     2,25/2\n",
    "CTRL -> 5       1,5/1,75\n",
    "L -> 13, 14     1,75\n",
    "R -> 8          1,8\n",
    "C -> 14         2,2\n",
    "H -> 11, 12     1,75\n",
    "4 -> 3, 4       1,75\n",
    "J -> 11, 12     2,2\n",
    "SUPPR -> 2, 3   2,8\n",
    "W -> 15         2,1\n",
    "S -> 7, 8       2,4\n",
    "7 -> 10         1,6\n",
    "K -> 12, 13     2\n",
    "8 -> 10         1,6\n",
    "SHIFT -> 6      2,4\n",
    "A -> 15         1,8\n",
    "1 -> 3          1,6\n",
    "B -> 11         2,8\n",
    "Q -> 15, 16     2\n",
    "SPACE -> 7, 8   2,3\n",
    "X -> 7, 8       1,8\n",
    "O -> 13, 14     2,3\n",
    "9 -> 10, 11     2,2\n",
    "D -> 14         2\n",
    "2 -> 3, 4       1,5\n",
    "U -> 11, 12     1,8\n",
    "ENTER -> 3, 4   2\n",
    "N -> 9          2,2\n",
    "T -> 9          1,8\n",
    "F -> 8          1,8\n",
    "6 -> 10         2\n",
    "E -> 14         1,8\n",
    "\n",
    "*Les lettres ici sont des lettres en minuscules"
   ]
  },
  {
   "cell_type": "markdown",
   "id": "identified-interface",
   "metadata": {},
   "source": [
    "Keras nous a ensuite fourni le tableau de caractères du résultat. La précision n'étant que de 50%, nous avons choisi d'afficher les trames de pics correspondants aux blocs de caractères.\n",
    "\n",
    "Exemple : un bloc de 'w' et de 'a' répétées entourées de NOKEY. On affiche toutes les trames correspondant à ce bloc. On voit certains pics caractéristiques et on en déduit la réelle lettre grâce au tableau ci-dessus et à de la logique.\n",
    "<br><br>\n",
    "\n",
    "Aussi, nous avons rajouté les lettres majuscules en rajoutant des données dans le dataset. Voir shift_letter() dans dataset_manager.\n",
    "\n",
    "Avec la même logique, en affichant le bloc du début correspondant à CTRL et donc en fait au CTRL ALT SUPPR, on a pu récupérer le pic du ALT:"
   ]
  },
  {
   "cell_type": "raw",
   "id": "collaborative-fantasy",
   "metadata": {},
   "source": [
    "KEY  NUM PIC    INTENSITE\n",
    "ALT -> 4, 5     2/2.2"
   ]
  },
  {
   "cell_type": "markdown",
   "id": "ambient-helicopter",
   "metadata": {},
   "source": [
    "Voir ctrl_alt_suppr() dans dataset_manager."
   ]
  },
  {
   "cell_type": "markdown",
   "id": "contained-engineer",
   "metadata": {},
   "source": [
    "# Résultats expliqués"
   ]
  },
  {
   "cell_type": "markdown",
   "id": "consolidated-deposit",
   "metadata": {},
   "source": [
    "## login :"
   ]
  },
  {
   "cell_type": "markdown",
   "id": "decent-senator",
   "metadata": {},
   "source": [
    "On a lancé main.ipynb plusieurs fois et on a ensuite comparé avec les résultats obtenus à la main.\n",
    "\n",
    "| Carac. estimés | keras 1 | keras 2 | keras 3 | à la main |\n",
    "|:-------------- |:--------|:--------|:--------|:----------|\n",
    "| 1er caractère  | ECD     | ECD     | DEC     | DEC       |\n",
    "| 2e caractère   | YNEH    | TNH     | TMGN    | TG        |\n",
    "| 3e caractère   | AW      | AW      | AWQ     | WAQ       |\n",
    "| 4e caractère   | M       | M       | P       | MP        |\n",
    "| 5e caractère   | IKH     | IK      | IKJ     | IKJ       |\n",
    "\n",
    "Ces caractères étant des majuscules.\n",
    "\n",
    "Avec de la logique, nous en avons déduit le login :\n",
    "\n",
    "DGAMI\n",
    "\n",
    "Ce qui correspond à DGA Maîtrise de l’information"
   ]
  },
  {
   "cell_type": "markdown",
   "id": "returning-niagara",
   "metadata": {},
   "source": [
    "## Mot de passe :"
   ]
  },
  {
   "cell_type": "markdown",
   "id": "cleared-fundamental",
   "metadata": {},
   "source": [
    "Cette partie a été fait en 1ère et a été la plus simple. Grâce à keras, le résultat affichait des blocs de lettres.\n",
    "\n",
    "Carac. estimés | keras |\n",
    ":--------------|:------|\n",
    "1er caractère  | ubh   |\n",
    "2e caractère   | aw    |\n",
    "3e caractère   | c     |\n",
    "4e caractère   | k     |\n",
    "5e caractère   | aw    |\n",
    "6e caractère   | gt    |\n",
    "7e caractère   | ol    |\n",
    "8e caractère   | ng    |\n",
    "9e caractère   | 21    |\n",
    "10e caractère  | O     |\n",
    "11e caractère  | 2     |\n",
    "12e caractère  | 21    |\n",
    "\n",
    "Soit en prenant la 1ere lettre estimée à chaque fois : 'uackagon2022'\n",
    "\n",
    "Avec de la logique et les autres lettres estimées mais moins présentes :\n",
    "\n",
    "hackaton2021"
   ]
  },
  {
   "cell_type": "markdown",
   "id": "reliable-activity",
   "metadata": {},
   "source": [
    "# Résultats finaux"
   ]
  },
  {
   "cell_type": "markdown",
   "id": "still-renaissance",
   "metadata": {},
   "source": [
    "login : DGAMI\n",
    "\n",
    "mot de passe : hackaton2021"
   ]
  },
  {
   "cell_type": "code",
   "execution_count": null,
   "id": "searching-bobby",
   "metadata": {},
   "outputs": [],
   "source": []
  }
 ],
 "metadata": {
  "kernelspec": {
   "display_name": "Python 3",
   "language": "python",
   "name": "python3"
  },
  "language_info": {
   "codemirror_mode": {
    "name": "ipython",
    "version": 3
   },
   "file_extension": ".py",
   "mimetype": "text/x-python",
   "name": "python",
   "nbconvert_exporter": "python",
   "pygments_lexer": "ipython3",
   "version": "3.8.6"
  }
 },
 "nbformat": 4,
 "nbformat_minor": 5
}
