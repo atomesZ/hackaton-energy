{
 "cells": [
  {
   "cell_type": "code",
   "execution_count": 1,
   "id": "ranging-acoustic",
   "metadata": {},
   "outputs": [],
   "source": [
    "from tensorflow.keras.layers.experimental.preprocessing import Normalization\n",
    "from tensorflow.keras.layers.experimental.preprocessing import CenterCrop\n",
    "\n",
    "from tensorflow.keras import layers\n",
    "import numpy as np\n",
    "import tensorflow as tf\n",
    "from tensorflow import keras\n",
    "\n",
    "\n",
    "from dataset_manager import *\n",
    "from predict import *\n",
    "\n",
    "train_dataset, test_dataset = get_dataset()\n",
    "d_list = list(test_dataset)\n",
    "\n",
    "X_train, Y_train = get_X_Y(train_dataset)\n",
    "\n",
    "X_test, Y_test = get_X_Y(test_dataset)\n",
    "\n",
    "#X = []\n",
    "#for i in range(0, len(Y_train) - 1):\n",
    "#    X.append([Y_train[i], X_train[i]])\n",
    "\n",
    "\n"
   ]
  },
  {
   "cell_type": "code",
   "execution_count": 2,
   "id": "scenic-supplier",
   "metadata": {
    "scrolled": true
   },
   "outputs": [
    {
     "name": "stdout",
     "output_type": "stream",
     "text": [
      "Epoch 1/10\n",
      "3938/3938 [==============================] - 5s 1ms/step - loss: 0.0257\n",
      "Epoch 2/10\n",
      "3938/3938 [==============================] - 5s 1ms/step - loss: 0.0173\n",
      "Epoch 3/10\n",
      "3938/3938 [==============================] - 5s 1ms/step - loss: 0.0143\n",
      "Epoch 4/10\n",
      "3938/3938 [==============================] - 5s 1ms/step - loss: 0.0135\n",
      "Epoch 5/10\n",
      "3938/3938 [==============================] - 5s 1ms/step - loss: 0.0132\n",
      "Epoch 6/10\n",
      "3938/3938 [==============================] - 5s 1ms/step - loss: 0.0130\n",
      "Epoch 7/10\n",
      "3938/3938 [==============================] - 5s 1ms/step - loss: 0.0128\n",
      "Epoch 8/10\n",
      "3938/3938 [==============================] - 5s 1ms/step - loss: 0.0126\n",
      "Epoch 9/10\n",
      "3938/3938 [==============================] - 5s 1ms/step - loss: 0.0126\n",
      "Epoch 10/10\n",
      "3938/3938 [==============================] - 5s 1ms/step - loss: 0.0124\n",
      "Model: \"sequential\"\n",
      "_________________________________________________________________\n",
      "Layer (type)                 Output Shape              Param #   \n",
      "=================================================================\n",
      "dense (Dense)                (None, 17)                306       \n",
      "_________________________________________________________________\n",
      "dense_1 (Dense)              (None, 128)               2304      \n",
      "_________________________________________________________________\n",
      "dense_2 (Dense)              (None, 128)               16512     \n",
      "_________________________________________________________________\n",
      "dense_3 (Dense)              (None, 128)               16512     \n",
      "_________________________________________________________________\n",
      "dense_4 (Dense)              (None, 128)               16512     \n",
      "_________________________________________________________________\n",
      "dense_5 (Dense)              (None, 128)               16512     \n",
      "_________________________________________________________________\n",
      "dense_6 (Dense)              (None, 128)               16512     \n",
      "_________________________________________________________________\n",
      "dense_7 (Dense)              (None, 42)                5418      \n",
      "=================================================================\n",
      "Total params: 90,588\n",
      "Trainable params: 90,588\n",
      "Non-trainable params: 0\n",
      "_________________________________________________________________\n"
     ]
    }
   ],
   "source": [
    "from sklearn.datasets import make_regression\n",
    "from keras.layers import Dense\n",
    "from keras.layers import Flatten\n",
    "from keras.models import Sequential\n",
    "from keras.optimizers import SGD\n",
    "from matplotlib import pyplot\n",
    "from dataset_manager import *\n",
    "from predict import *\n",
    "\n",
    "train_dataset, test_dataset = get_dataset()\n",
    "X_train, Y_train = get_X_Y_vectorized_int(train_dataset)\n",
    "X_test, Y_test = get_X_Y_vectorized_int(test_dataset)\n",
    "\n",
    "X_train, Y_train = shuffle_X_Y(X_train, Y_train)\n",
    "X_test, Y_test = shuffle_X_Y(X_test, Y_test)\n",
    "\n",
    "\n",
    "model = Sequential()\n",
    "#model.add(Flatten(input_shape=(len(X_train), 17)))\n",
    "model.add(Dense(17))\n",
    "for _ in range(6):\n",
    "    model.add(Dense(128, activation='sigmoid'))\n",
    "model.add(Dense(42))\n",
    "\n",
    "model.compile(loss='mean_squared_error', optimizer='adam')\n",
    "\n",
    "\n",
    "model.fit(np.array(X_train), np.array(Y_train), epochs=10, batch_size=64)\n",
    "model.summary()"
   ]
  },
  {
   "cell_type": "code",
   "execution_count": 3,
   "id": "nonprofit-professor",
   "metadata": {},
   "outputs": [
    {
     "name": "stdout",
     "output_type": "stream",
     "text": [
      "3113/3113 - 1s - loss: 0.0118\n",
      "\n",
      "Test loss: 0.011798979714512825\n"
     ]
    }
   ],
   "source": [
    "test_acc = model.evaluate(np.array(X_test), np.array(Y_test), verbose=2)\n",
    "\n",
    "print('\\nTest loss:', test_acc)"
   ]
  },
  {
   "cell_type": "code",
   "execution_count": 14,
   "id": "indie-rhythm",
   "metadata": {},
   "outputs": [],
   "source": [
    "def get_prediction_list(model, pic=\"tohack/pics_LOGINMDP\"):\n",
    "    \"\"\"\n",
    "    The model is like \"model = LinearRegression()\" (or other algorithms)\n",
    "    \"\"\"\n",
    "\n",
    "    x_pred, info = get_pics_from_file(f\"../{pic}.bin\")\n",
    "    \n",
    "    res = []\n",
    "\n",
    "    preds_brut = model.predict(np.array(x_pred))\n",
    "    for pred in preds_brut:\n",
    "        itemindex = np.where(pred==max(pred))[0][0]\n",
    "        prediction = d_list[itemindex]\n",
    "        if \"tohack\" in pic or prediction != 'NOKEY':\n",
    "            res.append(prediction)\n",
    "    return res\n",
    "\n",
    "\n",
    "def get_creds(prediction_list):\n",
    "    for i_k in range(len(prediction_list)):\n",
    "        if prediction_list[i_k] == 'CTRL' and i_k + 2 < len(prediction_list) and prediction_list[i_k + 2] == 'SUPPR':\n",
    "            print('#####################')\n",
    "            print(prediction_list[i_k:i_k + 42])\n"
   ]
  },
  {
   "cell_type": "code",
   "execution_count": 16,
   "id": "loaded-isaac",
   "metadata": {
    "scrolled": true
   },
   "outputs": [
    {
     "name": "stdout",
     "output_type": "stream",
     "text": [
      "I 84.41490747980193\n",
      "D 63.86543873113328\n",
      "2 63.86473429951691\n",
      "CTRL 97.47154225848695\n",
      "E 28.669288342001774\n",
      "J 79.68086475357097\n",
      "M 65.11627906976744\n",
      "8 0.0\n",
      "R 38.58915741345526\n",
      "Z 57.790515893694625\n",
      "0 29.475755120935077\n",
      "SPACE 13.31793687451886\n",
      "5 42.55268199233716\n",
      "W 64.02569593147751\n",
      "SUPPR 88.61870142892955\n",
      "Y 9.333168071393159\n",
      "Q 9.146585008653974\n",
      "L 89.7429435483871\n",
      "9 48.27801347641627\n",
      "B 45.22903268145426\n",
      "O 82.238082413143\n",
      "7 52.36082598719961\n",
      "NOKEY 0.0\n",
      "P 48.22905894519131\n",
      "U 0.0\n",
      "X 41.90077704722056\n",
      "ENTER 85.27433099117955\n",
      "3 0.0\n",
      "SHIFT 98.6605213884488\n",
      "4 59.65383191410588\n",
      "6 51.03911191428941\n",
      "F 46.80187207488299\n",
      "H 59.171597633136095\n",
      "S 69.29143411793254\n",
      "T 38.17136285221391\n",
      "A 36.710875331564985\n",
      "1 0.0\n",
      "C 85.01288659793815\n",
      "V 87.03455011598096\n",
      "K 81.64251207729468\n",
      "G 49.908854166666664\n",
      "N 85.39674655407923\n",
      "accuracy:  51.849582726152384\n"
     ]
    }
   ],
   "source": [
    "def compute_accuracy_key(key):\n",
    "    res = get_prediction_list(model, pic=f\"data/pics_{key}\")\n",
    "    return (key, len(res), res.count(key), res.count(key) / len(res) * 100)\n",
    "    \n",
    "def compute_accuracy():\n",
    "    accuracy = {}\n",
    "    for key in d_list:\n",
    "        accuracy[key] = compute_accuracy_key(key)[-1]\n",
    "        \n",
    "    return accuracy\n",
    "    \n",
    "accuracy = compute_accuracy()\n",
    "for key, acc in accuracy.items():\n",
    "    print(key, acc)\n",
    "\n",
    "print(\"accuracy: \", sum(accuracy.values()) / 42)\n"
   ]
  },
  {
   "cell_type": "code",
   "execution_count": 6,
   "id": "patient-newton",
   "metadata": {},
   "outputs": [
    {
     "name": "stdout",
     "output_type": "stream",
     "text": [
      "['Z', 'R', 'A', '7', 'K', 'Z', 'R', '4', '7', 'Z', 'E', 'T', '4', 'Z', 'E', 'A', 'R', 'CTRL', '6', 'P', 'CTRL', '7', 'Z', 'K', '4', 'P', 'R', '2', '4', 'R', 'T', 'Z', 'T', '4', 'R', 'R', '4', '4', '7', 'H', 'CTRL', 'H', '4', '2', '6', 'H', 'E', '7', 'CTRL', 'P', 'R', 'CTRL', 'A', 'E', 'CTRL', 'SUPPR', 'A', '6', 'E', 'CTRL', 'Z', 'H', 'Z', '7', 'R', 'A', '7', '5', 'Z', 'SUPPR', '5', 'A', 'CTRL', 'SHIFT', '4', '2', 'H', 'CTRL', 'CTRL', 'T', '5', '4', 'CTRL', '4', 'T', '4', '2', 'CTRL', '4', 'P', 'Z', 'T', 'P', 'CTRL', 'CTRL', 'E', 'CTRL', 'Z', 'CTRL', 'CTRL', 'CTRL', 'CTRL', 'CTRL', 'CTRL', 'CTRL', 'CTRL', 'CTRL', 'CTRL', 'CTRL', 'CTRL', 'CTRL', 'CTRL', 'CTRL', 'CTRL', 'CTRL', 'CTRL', 'CTRL', 'CTRL', 'CTRL', 'CTRL', 'CTRL', 'CTRL', 'CTRL', 'CTRL', 'CTRL', 'CTRL', 'CTRL', 'CTRL', 'CTRL', 'CTRL', 'CTRL', 'CTRL', 'CTRL', 'CTRL', 'CTRL', 'CTRL', 'CTRL', 'CTRL', 'CTRL', 'CTRL', 'CTRL', 'CTRL', 'CTRL', 'CTRL', 'CTRL', 'CTRL', 'CTRL', 'CTRL', 'CTRL', 'CTRL', 'CTRL', 'CTRL', 'CTRL', 'CTRL', 'CTRL', 'CTRL', 'CTRL', 'CTRL', 'CTRL', 'CTRL', 'CTRL', 'CTRL', 'CTRL', 'CTRL', 'CTRL', 'CTRL', 'CTRL', 'CTRL', 'CTRL', 'CTRL', 'CTRL', '5', 'CTRL', 'CTRL', 'CTRL', 'CTRL', 'CTRL', 'CTRL', 'CTRL', 'CTRL', 'CTRL', 'CTRL', 'CTRL', '6', 'CTRL', 'Z', 'CTRL', 'CTRL', 'CTRL', 'CTRL', 'CTRL', 'CTRL', 'CTRL', 'CTRL', 'CTRL', 'CTRL', 'CTRL', 'CTRL', 'CTRL', 'CTRL', 'CTRL', 'CTRL', 'CTRL', 'CTRL', 'CTRL', 'CTRL', 'CTRL', 'CTRL', 'CTRL', 'CTRL', 'CTRL', 'CTRL', 'CTRL', 'CTRL', 'CTRL', 'CTRL', 'CTRL', 'CTRL', 'CTRL', 'CTRL', 'CTRL', 'CTRL', 'CTRL', 'CTRL', 'CTRL', 'CTRL', 'CTRL', 'CTRL', 'CTRL', 'CTRL', 'CTRL', 'CTRL', 'CTRL', 'CTRL', 'CTRL', 'CTRL', 'CTRL', 'CTRL', 'CTRL', 'CTRL', 'CTRL', 'CTRL', 'CTRL', 'CTRL', 'CTRL', 'CTRL', 'CTRL', 'CTRL', 'CTRL', 'CTRL', 'CTRL', 'CTRL', 'CTRL', 'CTRL', 'CTRL', 'CTRL', 'CTRL', 'CTRL', 'CTRL', 'CTRL', 'CTRL', 'CTRL', 'CTRL', 'CTRL', 'CTRL', 'CTRL', 'CTRL', 'CTRL', 'CTRL', 'CTRL', 'CTRL', 'CTRL', 'CTRL', 'CTRL', 'CTRL', 'CTRL', 'CTRL', 'CTRL', 'CTRL', 'CTRL', 'CTRL', 'CTRL', 'CTRL', 'CTRL', 'CTRL', 'CTRL', 'CTRL', 'CTRL', 'CTRL', 'CTRL', 'CTRL', 'CTRL', 'CTRL', 'CTRL', 'CTRL', 'CTRL', 'CTRL', 'CTRL', 'CTRL', 'CTRL', 'CTRL', 'CTRL', 'CTRL', 'CTRL', 'CTRL', 'CTRL', 'CTRL', 'CTRL', 'CTRL', 'CTRL', 'CTRL', 'CTRL', 'CTRL', 'CTRL', 'CTRL', 'CTRL', 'CTRL', '2', 'CTRL', 'CTRL', 'CTRL', 'CTRL', 'CTRL', 'CTRL', 'CTRL', 'CTRL', 'CTRL', 'CTRL', 'CTRL', 'CTRL', 'CTRL', 'CTRL', 'CTRL', 'CTRL', 'CTRL', 'Q', 'CTRL', 'CTRL', 'CTRL', 'CTRL', 'CTRL', 'CTRL', 'CTRL', 'CTRL', 'CTRL', 'CTRL', 'CTRL', 'CTRL', 'CTRL', 'CTRL', 'CTRL', 'CTRL', 'CTRL', '4', 'CTRL', 'CTRL', 'CTRL', 'CTRL', 'CTRL', 'CTRL', 'CTRL', 'CTRL', 'CTRL', 'CTRL', 'CTRL', 'CTRL', 'CTRL', 'CTRL', 'CTRL', 'CTRL', 'CTRL', 'CTRL', 'CTRL', 'CTRL', 'CTRL', 'CTRL', '5', 'CTRL', 'CTRL', 'CTRL', 'CTRL', 'CTRL', 'CTRL', 'CTRL', 'CTRL', 'CTRL', 'CTRL', 'CTRL', 'CTRL', 'CTRL', 'CTRL', 'CTRL', 'CTRL', 'CTRL', 'CTRL', 'CTRL', 'CTRL', 'CTRL', 'CTRL', 'CTRL', 'CTRL', 'R', 'CTRL', 'CTRL', 'CTRL', '5', 'CTRL', 'CTRL', 'CTRL', 'CTRL', 'CTRL', 'CTRL', 'CTRL', 'CTRL', 'CTRL', 'CTRL', 'CTRL', 'CTRL', 'CTRL', 'CTRL', 'CTRL', 'CTRL', 'CTRL', 'CTRL', 'CTRL', '9', 'CTRL', 'CTRL', 'CTRL', 'CTRL', 'CTRL', 'CTRL', 'CTRL', 'SUPPR', 'CTRL', '4', 'CTRL', 'CTRL', 'CTRL', 'CTRL', 'CTRL', 'CTRL', 'CTRL', 'CTRL', 'CTRL', 'CTRL', 'CTRL', 'CTRL', 'CTRL', 'SUPPR', 'SUPPR', 'SUPPR', 'SUPPR', 'SUPPR', '0', 'SUPPR', 'SUPPR', 'SUPPR', '0', 'SUPPR', 'SUPPR', 'SUPPR', '2', 'SUPPR', 'SUPPR', 'SUPPR', 'SUPPR', 'SUPPR', 'SUPPR', 'SUPPR', 'SUPPR', 'SUPPR', 'SUPPR', 'SUPPR', 'SUPPR', 'SUPPR', 'SUPPR', 'SUPPR', 'SUPPR', 'SUPPR', 'SUPPR', 'SUPPR', 'SUPPR', 'SUPPR', 'SUPPR', 'SUPPR', 'SUPPR', 'SUPPR', 'SUPPR', 'SUPPR', 'SUPPR', 'SUPPR', 'SUPPR', 'SUPPR', 'SUPPR', '0', 'SUPPR', 'SUPPR', '0', 'SUPPR', 'SUPPR', 'SUPPR', '0', 'SUPPR', 'SUPPR', 'C', 'SUPPR', 'SUPPR', 'SUPPR', 'SUPPR', 'SUPPR', 'SUPPR', 'SUPPR', 'SUPPR', 'SUPPR', 'SUPPR', 'SUPPR', 'CTRL', 'SUPPR', 'SUPPR', 'SUPPR', 'SUPPR', 'SUPPR', 'SUPPR', 'SUPPR', 'SUPPR', 'SUPPR', 'SUPPR', 'SUPPR', 'SUPPR', 'SUPPR', 'SUPPR', 'SUPPR', 'CTRL', '0', 'SUPPR', 'SUPPR', 'SUPPR', 'SUPPR', 'SUPPR', 'SUPPR', 'SUPPR', 'SUPPR', 'SUPPR', 'SUPPR', 'SUPPR', 'SUPPR', '0', 'SUPPR', 'SUPPR', 'SUPPR', 'SUPPR', 'SUPPR', 'SUPPR', 'SUPPR', 'SUPPR', 'SUPPR', 'SUPPR', 'SUPPR', 'SUPPR', 'SUPPR', 'SUPPR', 'SUPPR', 'SUPPR', 'SUPPR', 'SUPPR', 'SUPPR', 'SUPPR', 'SUPPR', 'SUPPR', 'SUPPR', 'SUPPR', 'SUPPR', 'SUPPR', 'SUPPR', 'SUPPR', 'SUPPR', 'SUPPR', 'SUPPR', '5', 'SUPPR', 'SUPPR', 'SUPPR', 'SUPPR', 'SUPPR', 'SUPPR', 'SUPPR', 'SUPPR', 'SUPPR', 'SUPPR', 'SUPPR', 'SUPPR', 'SUPPR', 'SUPPR', 'SUPPR', 'SUPPR', 'CTRL', 'SUPPR', 'SUPPR', 'SUPPR', 'SUPPR', 'SUPPR', 'SUPPR', 'SUPPR', 'SUPPR', 'SUPPR', 'SUPPR', 'SUPPR', '4', 'SUPPR', 'SUPPR', 'SUPPR', 'SUPPR', 'SUPPR', 'SUPPR', 'SUPPR', 'SUPPR', 'SUPPR', 'SUPPR', 'SUPPR', 'SUPPR', 'SUPPR', 'SUPPR', 'SUPPR', 'SUPPR', 'SUPPR', 'SUPPR', 'SUPPR', 'SUPPR', 'SUPPR', 'SUPPR', 'SUPPR', 'SUPPR', 'SUPPR', 'SUPPR', 'SUPPR', '4', 'SUPPR', 'SUPPR', 'CTRL', 'SUPPR', 'SUPPR', 'SUPPR', 'SUPPR', 'SUPPR', 'SUPPR', 'SUPPR', 'SUPPR', 'SUPPR', 'SUPPR', 'SUPPR', 'SUPPR', 'SUPPR', 'SUPPR', 'SUPPR', 'SUPPR', 'SUPPR', 'SUPPR', 'SUPPR', 'SUPPR', 'SUPPR', 'SUPPR', 'CTRL', 'SUPPR', 'SUPPR', 'SUPPR', 'SUPPR', 'SUPPR', 'SUPPR', 'SUPPR', 'SUPPR', 'SUPPR', 'SUPPR', 'SUPPR', 'SUPPR', 'SUPPR', 'SUPPR', 'SUPPR', 'SUPPR', 'SUPPR', 'SUPPR', 'SUPPR', 'SUPPR', 'SUPPR', 'SUPPR', 'SUPPR', 'SUPPR', 'SUPPR', 'CTRL', 'SUPPR', 'SUPPR', 'SUPPR', 'SUPPR', 'SUPPR', 'SUPPR', 'SUPPR', 'SUPPR', 'SUPPR', 'SUPPR', 'SUPPR', 'SUPPR', 'SUPPR', 'SUPPR', 'SUPPR', 'SUPPR', 'SUPPR', 'SUPPR', 'SUPPR', 'SUPPR', 'SUPPR', 'SUPPR', 'SUPPR', 'SUPPR', 'SUPPR', 'SUPPR', 'SUPPR', 'SUPPR', 'SUPPR', 'SUPPR', 'SUPPR', 'SUPPR', 'SUPPR', 'SUPPR', 'SUPPR', 'SUPPR', 'SUPPR', 'SUPPR', 'SUPPR', 'SUPPR', 'CTRL', 'SUPPR', 'SUPPR', 'CTRL', 'SUPPR', 'SUPPR', 'SUPPR', 'SUPPR', 'SUPPR', '0', 'SUPPR', 'SUPPR', 'SUPPR', 'SUPPR', 'SUPPR', 'SUPPR', 'SUPPR', 'SUPPR', 'SUPPR', 'SUPPR', 'SUPPR', 'SUPPR', 'SUPPR', 'X', 'CTRL', 'CTRL', '2', 'CTRL', '7', 'T', 'CTRL', 'A', 'Z', '2', 'A', 'CTRL', '4', '4', '4', 'CTRL', 'F', 'Z', 'CTRL', 'P', '4', 'R', 'R', '4', 'T', 'Z', 'CTRL', 'K', 'Z', '7', '7', 'K', 'E', 'H', 'Z', 'Z', 'R', 'A', 'H', '4', 'Z', 'CTRL', 'K', 'CTRL', 'CTRL', 'CTRL', '2', 'A', '7', '4', 'CTRL', 'CTRL', 'A', 'P', 'CTRL', 'R', 'Z', 'Z', 'T', 'H', 'A', '4', '7', 'R', 'CTRL', 'CTRL', 'Z', '5', 'H', 'SHIFT', 'Z', 'Z', 'SHIFT', 'SHIFT', 'SHIFT', 'SHIFT', 'SHIFT', 'SHIFT', 'SHIFT', 'SHIFT', 'SHIFT', 'SHIFT', 'SHIFT', 'SHIFT', '4', 'SHIFT', 'SHIFT', 'SHIFT', 'SHIFT', 'SHIFT', 'SHIFT', 'SHIFT', 'SHIFT', 'SHIFT', 'SHIFT', 'SHIFT', 'SHIFT', 'SHIFT', 'SHIFT', 'SHIFT', 'SHIFT', 'SHIFT', 'SHIFT', 'SHIFT', 'SHIFT', 'SHIFT', 'SHIFT', 'SHIFT', 'SHIFT', 'SHIFT', 'SHIFT', 'SHIFT', 'SHIFT', 'SHIFT', 'SHIFT', 'SHIFT', 'SHIFT', 'SHIFT', 'SHIFT', 'SHIFT', 'SHIFT', 'SHIFT', 'SHIFT', 'SHIFT', 'SHIFT', 'SHIFT', 'SHIFT', 'SHIFT', 'SHIFT', 'SHIFT', 'SHIFT', 'SHIFT', 'SHIFT', 'SHIFT', 'SHIFT', 'SHIFT', 'SHIFT', 'SHIFT', 'SHIFT', 'SHIFT', 'SHIFT', 'SHIFT', 'SHIFT', 'SHIFT', 'SHIFT', 'SHIFT', 'SHIFT', 'SHIFT', 'SHIFT', 'SHIFT', 'SHIFT', 'SHIFT', 'SHIFT', 'SHIFT', 'SHIFT', 'SHIFT', 'SHIFT', 'SHIFT', 'SHIFT', 'SHIFT', 'SHIFT', 'SHIFT', 'SHIFT', 'SHIFT', 'SHIFT', 'SHIFT', 'SHIFT', '4', 'SHIFT', 'SHIFT', 'SHIFT', 'SHIFT', 'SHIFT', 'SHIFT', 'SHIFT', 'SHIFT', 'SHIFT', 'SHIFT', 'SHIFT', 'SHIFT', '4', 'SHIFT', 'SHIFT', 'SHIFT', 'SHIFT', 'SHIFT', 'SHIFT', 'SHIFT', 'SHIFT', 'SHIFT', 'SHIFT', 'SHIFT', 'SHIFT', 'SHIFT', 'SHIFT', 'SHIFT', 'SHIFT', 'SHIFT', 'SHIFT', 'SHIFT', 'SHIFT', 'SHIFT', 'SHIFT', 'SHIFT', 'SHIFT', 'SHIFT', 'SHIFT', 'SHIFT', 'SHIFT', 'SHIFT', 'SHIFT', 'SHIFT', 'SHIFT', 'SHIFT', 'SHIFT', 'SHIFT', 'SHIFT', 'SHIFT', 'SHIFT', 'SHIFT', 'SHIFT', 'SHIFT', 'SHIFT', 'SHIFT', 'SHIFT', 'SHIFT', 'SHIFT', 'SHIFT', 'SHIFT', 'SHIFT', 'SHIFT', 'SHIFT', 'SHIFT', 'SHIFT', '4', 'SHIFT', 'SHIFT', 'SHIFT', 'SHIFT', 'SHIFT', 'SHIFT', 'SHIFT', 'SHIFT', 'SHIFT', 'SHIFT', 'SHIFT', 'SHIFT', '4', 'SHIFT', 'SHIFT', 'SHIFT', 'SHIFT', 'SHIFT', 'SHIFT', 'SHIFT', 'SHIFT', 'SHIFT', 'SHIFT', 'SHIFT', 'SHIFT', 'SHIFT', 'SHIFT', 'SHIFT', 'SHIFT', 'SHIFT', 'SHIFT', 'SHIFT', 'SHIFT', 'SHIFT', 'SHIFT', 'SHIFT', 'SHIFT', 'SHIFT', 'SHIFT', 'SHIFT', 'SHIFT', 'SHIFT', 'SHIFT', 'SHIFT', 'SHIFT', 'SHIFT', 'SHIFT', 'SHIFT', 'SHIFT', 'SHIFT', 'SHIFT', 'SHIFT', 'SHIFT', 'SHIFT', 'SHIFT', 'SHIFT', 'SHIFT', 'SHIFT', 'SHIFT', 'SHIFT', 'SHIFT', 'SHIFT', 'SHIFT', 'SHIFT', 'SHIFT', 'SHIFT', 'D', 'SHIFT', 'SHIFT', 'SHIFT', 'SHIFT', 'SHIFT', 'SHIFT', 'SHIFT', 'SHIFT', 'SHIFT', 'SHIFT', 'SHIFT', 'SHIFT', 'SHIFT', 'SHIFT', 'SHIFT', 'SHIFT', 'C', 'SHIFT', 'SHIFT', 'SHIFT', 'SHIFT', 'SHIFT', 'SHIFT', 'SHIFT', 'SHIFT', 'SHIFT', 'SHIFT', 'SHIFT', 'SHIFT', 'SHIFT', 'SHIFT', 'SHIFT', 'SHIFT', 'SHIFT', 'SHIFT', 'SHIFT', 'SHIFT', 'SHIFT', 'SHIFT', 'SHIFT', 'SHIFT', 'SHIFT', 'SHIFT', 'SHIFT', 'SHIFT', 'SHIFT', 'SHIFT', 'SHIFT', 'SHIFT', 'X', 'SHIFT', 'SHIFT', 'SHIFT', 'X', 'SHIFT', 'SHIFT', 'S', 'SHIFT', 'SHIFT', 'SHIFT', 'SHIFT', 'X', 'SHIFT', 'SHIFT', 'SHIFT', 'SHIFT', 'SHIFT', 'SHIFT', 'SHIFT', '4', 'SHIFT', 'SHIFT', 'SHIFT', 'SHIFT', 'SHIFT', 'SHIFT', 'SHIFT', 'SHIFT', 'SHIFT', 'SHIFT', 'SHIFT', 'SHIFT', 'SHIFT', 'SHIFT', 'SHIFT', 'SHIFT', 'SHIFT', 'SHIFT', 'SHIFT', 'SHIFT', 'SHIFT', 'SHIFT', 'SHIFT', 'SHIFT', 'SHIFT', 'SHIFT', 'SHIFT', 'SHIFT', 'SHIFT', 'SHIFT', 'SHIFT', 'SHIFT', 'SHIFT', 'SHIFT', 'SHIFT', 'SHIFT', 'SHIFT', 'SHIFT', 'SHIFT', 'SHIFT', 'SHIFT', 'SHIFT', 'SHIFT', 'SHIFT', 'SHIFT', 'SHIFT', 'SHIFT', 'SHIFT', 'SHIFT', 'SHIFT', 'SHIFT', 'SHIFT', 'SHIFT', 'SHIFT', 'SHIFT', 'SHIFT', 'SHIFT', 'SHIFT', 'SHIFT', 'SHIFT', 'SHIFT', 'SHIFT', 'SHIFT', 'SHIFT', 'SHIFT', 'SHIFT', 'SHIFT', 'SHIFT', 'SHIFT', 'SHIFT', 'SHIFT', 'SHIFT', 'SHIFT', 'SHIFT', 'SHIFT', 'SHIFT', 'SHIFT', 'SHIFT', 'SHIFT', 'SHIFT', 'SHIFT', 'SHIFT', 'SHIFT', 'SHIFT', 'SHIFT', 'SHIFT', 'SHIFT', 'SHIFT', 'SHIFT', 'SHIFT', 'SHIFT', '2', 'SHIFT', 'SHIFT', 'SHIFT', 'SHIFT', 'SHIFT', 'SHIFT', 'SHIFT', 'SHIFT', 'SHIFT', 'SHIFT', 'SHIFT', 'SHIFT', 'SHIFT', 'SHIFT', 'SHIFT', 'SHIFT', 'SHIFT', 'SHIFT', 'SHIFT', 'SHIFT', 'SHIFT', 'SHIFT', 'SHIFT', 'SHIFT', 'SHIFT', 'SHIFT', 'SHIFT', 'SHIFT', 'SHIFT', 'SHIFT', 'SHIFT', 'SHIFT', 'SHIFT', 'SHIFT', 'SHIFT', 'SHIFT', 'SHIFT', 'SHIFT', 'D', 'SHIFT', 'SHIFT', 'SHIFT', 'SHIFT', 'SHIFT', 'SHIFT', 'SHIFT', 'SHIFT', 'SHIFT', 'SHIFT', 'SHIFT', 'SHIFT', 'SHIFT', 'SHIFT', 'SHIFT', 'SHIFT', 'SHIFT', 'SHIFT', 'SHIFT', 'SHIFT', 'SHIFT', 'SHIFT', 'SHIFT', 'SHIFT', 'SHIFT', 'SHIFT', 'SHIFT', 'SHIFT', 'SHIFT', 'SHIFT', 'SHIFT', 'SHIFT', 'SHIFT', 'SHIFT', 'SHIFT', 'SHIFT', 'SHIFT', 'SHIFT', 'SHIFT', 'SHIFT', 'SHIFT', 'SHIFT', 'SHIFT', 'SHIFT', 'SHIFT', '4', 'SHIFT', 'SHIFT', 'SHIFT', 'SHIFT', 'SHIFT', 'SHIFT', 'SHIFT', 'SHIFT', 'SHIFT', 'SHIFT', 'SHIFT', 'SHIFT', 'SHIFT', 'SHIFT', 'SHIFT', 'SHIFT', 'SHIFT', 'SHIFT', 'SHIFT', 'SHIFT', 'SHIFT', 'SHIFT', '9', 'SHIFT', 'SHIFT', 'SHIFT', 'SHIFT', 'SHIFT', 'SHIFT', 'SHIFT', 'SHIFT', 'SHIFT', 'SHIFT', 'SHIFT', 'SHIFT', 'SHIFT', 'SHIFT', 'SHIFT', 'SHIFT', 'SHIFT', 'SHIFT', 'SHIFT', 'SHIFT', 'SHIFT', 'SHIFT', 'SHIFT', 'SHIFT', 'SHIFT', 'SHIFT', 'SHIFT', 'SHIFT', 'SHIFT', 'SHIFT', 'SHIFT', 'SHIFT', 'SHIFT', 'SHIFT', 'SHIFT', 'SHIFT', 'SHIFT', 'SHIFT', 'SHIFT', 'X', 'SHIFT', 'SHIFT', 'X', 'SHIFT', 'SHIFT', 'SHIFT', 'SHIFT', 'SHIFT', 'SHIFT', 'SHIFT', 'SHIFT', 'SHIFT', 'SHIFT', 'SHIFT', 'SHIFT', 'SHIFT', 'SHIFT', 'SHIFT', 'SHIFT', 'SHIFT', 'SHIFT', 'SHIFT', 'SHIFT', 'SHIFT', 'SHIFT', 'SHIFT', 'SHIFT', 'SHIFT', 'SHIFT', 'SHIFT', '4', 'SHIFT', 'SHIFT', 'SHIFT', 'SHIFT', 'SHIFT', 'SHIFT', 'SHIFT', 'SHIFT', 'SHIFT', 'SHIFT', 'SHIFT', 'SHIFT', 'SHIFT', 'SHIFT', 'SHIFT', 'SHIFT', 'SHIFT', 'SHIFT', 'SHIFT', 'SHIFT', 'SHIFT', 'SHIFT', 'SHIFT', 'SHIFT', 'SHIFT', 'SHIFT', '4', 'SHIFT', 'SHIFT', 'SHIFT', 'SHIFT', 'SHIFT', 'SHIFT', 'SHIFT', 'SHIFT', 'SHIFT', 'SHIFT', 'SHIFT', 'SHIFT', 'SHIFT', 'SHIFT', 'SHIFT', 'SHIFT', 'SHIFT', 'SHIFT', 'SHIFT', 'SHIFT', 'SHIFT', 'SHIFT', 'SHIFT', 'SHIFT', 'SHIFT', 'SHIFT', 'SHIFT', 'SHIFT', 'SHIFT', 'SHIFT', 'SHIFT', 'SHIFT', 'SHIFT', 'SHIFT', 'SHIFT', 'SHIFT', 'SHIFT', 'SHIFT', 'SHIFT', 'SHIFT', 'SHIFT', 'SHIFT', 'SHIFT', 'SHIFT', 'V', 'SHIFT', 'SHIFT', 'SHIFT', 'SHIFT', 'SHIFT', 'SHIFT', 'SHIFT', 'SHIFT', 'SHIFT', 'SHIFT', 'SHIFT', 'SHIFT', 'SHIFT', 'SHIFT', 'SHIFT', 'SHIFT', 'SHIFT', 'SHIFT', 'SHIFT', 'SHIFT', 'SHIFT', 'SHIFT', 'SHIFT', 'SHIFT', 'G', 'Y', 'Y', 'Y', 'L', '4', 'SHIFT', 'Y', 'SHIFT', 'SHIFT', 'Y', 'Y', 'Y', 'SHIFT', 'R', 'Y', 'C', 'Y', 'V', 'F', 'SHIFT', 'G', 'SHIFT', 'G', 'Y', 'G', 'G', 'SHIFT', 'Y', 'G', 'G', 'SHIFT', 'SHIFT', 'SHIFT', 'G', 'G', 'Y', 'SHIFT', 'SHIFT', 'Y', 'SHIFT', 'Y', 'SHIFT', 'Y', 'G', 'SHIFT', 'SHIFT', 'Y', 'SHIFT', 'Y', 'Y', 'Y', 'Y', 'T', 'Y', 'F', 'F', 'SHIFT', 'Y', 'Y', 'SHIFT', 'Y', 'SHIFT', 'SHIFT', 'SHIFT', 'G', 'SHIFT', 'SHIFT', 'SHIFT', 'R', 'Y', 'SHIFT', 'G', 'SHIFT', '4', 'G', 'L', 'G', 'SHIFT', 'Y', 'SHIFT', 'SHIFT', 'Y', 'Y', 'N', 'Y', 'Y', 'Y', 'Y', 'Y', 'G', 'SHIFT', 'SHIFT', 'G', 'F', 'Y', 'Y', 'SHIFT', 'Y', 'SHIFT', 'Y', 'G', 'SHIFT', 'SHIFT', 'SHIFT', 'SHIFT', '4', 'SHIFT', 'SHIFT', 'SHIFT', 'SHIFT', 'SHIFT', 'SHIFT', 'SHIFT', 'SHIFT', 'SHIFT', 'SHIFT', 'SHIFT', 'SHIFT', 'SHIFT', 'SHIFT', 'SHIFT', 'SHIFT', 'SHIFT', 'SHIFT', 'SHIFT', 'SHIFT', 'SHIFT', 'SHIFT', 'SHIFT', 'SHIFT', 'SHIFT', 'SHIFT', 'SHIFT', 'SHIFT', 'SHIFT', 'SHIFT', 'SHIFT', 'SHIFT', 'SHIFT', 'SHIFT', 'SHIFT', 'SHIFT', 'SHIFT', 'SHIFT', 'SHIFT', 'SHIFT', 'SHIFT', 'SHIFT', 'SHIFT', 'SHIFT', 'SHIFT', 'SHIFT', 'SHIFT', 'SHIFT', 'SHIFT', 'SHIFT', 'SHIFT', 'SHIFT', 'SHIFT', 'SHIFT', 'SHIFT', 'SHIFT', 'SHIFT', 'SHIFT', 'SHIFT', 'SHIFT', 'SHIFT', 'SHIFT', 'SHIFT', 'SHIFT', 'SHIFT', 'SHIFT', 'SHIFT', 'SHIFT', 'SHIFT', 'SHIFT', 'SHIFT', 'SHIFT', 'SHIFT', 'SHIFT', 'SHIFT', 'SHIFT', 'SHIFT', 'SHIFT', 'SHIFT', 'SHIFT', 'SHIFT', 'SHIFT', 'SHIFT', 'SHIFT', 'SHIFT', 'SHIFT', 'SHIFT', 'SHIFT', 'SHIFT', 'SHIFT', 'SHIFT', 'SHIFT', 'SHIFT', 'SHIFT', 'SHIFT', 'SHIFT', 'SHIFT', 'SHIFT', 'SHIFT', 'SHIFT', 'SHIFT', 'SHIFT', 'SHIFT', 'SHIFT', 'SHIFT', 'SHIFT', 'SHIFT', 'SHIFT', 'SHIFT', 'SHIFT', 'SHIFT', 'SHIFT', 'SHIFT', 'SHIFT', 'SHIFT', 'SHIFT', 'SHIFT', 'SHIFT', 'SHIFT', 'SHIFT', 'SHIFT', 'SHIFT', 'SHIFT', 'SHIFT', 'SHIFT', 'SHIFT', '4', 'SHIFT', 'SHIFT', 'SHIFT', 'SHIFT', 'SHIFT', 'SHIFT', 'SHIFT', 'SHIFT', 'SHIFT', 'SHIFT', 'SHIFT', 'SHIFT', 'SHIFT', 'SHIFT', 'SHIFT', 'SHIFT', 'SHIFT', 'SHIFT', 'SHIFT', 'SHIFT', 'SHIFT', 'SHIFT', 'SHIFT', 'SHIFT', 'SHIFT', 'SHIFT', 'SHIFT', 'SHIFT', 'SHIFT', 'SHIFT', 'SHIFT', 'SHIFT', 'SHIFT', 'SHIFT', 'SHIFT', 'SHIFT', 'SHIFT', 'SHIFT', 'SHIFT', 'SHIFT', 'SHIFT', 'SHIFT', 'SHIFT', 'SHIFT', 'SHIFT', 'SHIFT', 'SHIFT', 'SHIFT', 'SHIFT', 'SHIFT', 'SHIFT', 'SHIFT', 'SHIFT', 'SHIFT', 'SHIFT', 'SHIFT', 'SHIFT', 'SHIFT', 'SHIFT', 'SHIFT', 'SHIFT', 'SHIFT', 'SHIFT', 'SHIFT', 'SHIFT', 'SHIFT', 'SHIFT', '4', 'SHIFT', 'SHIFT', 'SHIFT', 'SHIFT', 'SHIFT', 'SHIFT', 'SHIFT', 'SHIFT', 'SHIFT', 'SHIFT', 'SHIFT', 'SHIFT', 'SHIFT', 'SHIFT', 'SHIFT', 'SHIFT', 'SHIFT', 'SHIFT', 'SHIFT', 'SHIFT', 'SHIFT', 'SHIFT', 'SHIFT', 'SHIFT', 'SHIFT', 'SHIFT', 'SHIFT', 'SHIFT', 'SHIFT', 'SHIFT', 'SHIFT', 'SHIFT', '4', 'SHIFT', 'SHIFT', 'SHIFT', 'SHIFT', 'SHIFT', 'SHIFT', 'SHIFT', 'SHIFT', 'SHIFT', 'SHIFT', 'SHIFT', 'SHIFT', 'SHIFT', 'SHIFT', 'SHIFT', 'SHIFT', 'SHIFT', 'SHIFT', 'SHIFT', 'SHIFT', 'SHIFT', 'W', 'SHIFT', 'SHIFT', 'SHIFT', 'SHIFT', 'SHIFT', 'SHIFT', 'SHIFT', 'SHIFT', 'SHIFT', 'SHIFT', 'SHIFT', 'SHIFT', 'SHIFT', 'SHIFT', 'SHIFT', 'SHIFT', 'SHIFT', 'SHIFT', 'SHIFT', 'SHIFT', 'SHIFT', 'SHIFT', 'SHIFT', 'SHIFT', 'SHIFT', 'SHIFT', 'SHIFT', 'SHIFT', 'SHIFT', 'SHIFT', 'SHIFT', 'SHIFT', 'SHIFT', 'SHIFT', 'W', 'SHIFT', 'SHIFT', 'SHIFT', 'SHIFT', 'SHIFT', '6', 'SHIFT', 'SHIFT', 'SHIFT', 'SHIFT', 'SHIFT', 'SHIFT', 'SHIFT', 'SHIFT', 'SHIFT', 'SHIFT', 'SHIFT', 'SHIFT', 'SHIFT', 'SHIFT', 'SHIFT', 'SHIFT', 'SHIFT', 'SHIFT', 'SHIFT', 'SHIFT', 'SHIFT', 'SHIFT', 'SHIFT', 'SHIFT', 'SHIFT', 'SHIFT', 'SHIFT', 'SHIFT', 'SHIFT', 'SHIFT', 'SHIFT', 'SHIFT', 'SHIFT', 'SHIFT', 'SHIFT', 'SHIFT', 'SHIFT', 'SHIFT', 'SHIFT', 'SHIFT', 'SHIFT', 'SHIFT', 'SHIFT', 'SHIFT', 'SHIFT', 'SHIFT', 'SHIFT', 'SHIFT', 'SHIFT', 'SHIFT', 'SHIFT', 'SHIFT', 'SHIFT', 'SHIFT', 'SHIFT', 'SHIFT', 'SHIFT', 'SHIFT', 'SHIFT', 'SHIFT', 'SHIFT', 'SHIFT', 'SHIFT', 'SHIFT', 'SHIFT', 'SHIFT', 'SHIFT', 'SHIFT', 'SHIFT', 'SHIFT', 'SHIFT', 'SHIFT', 'SHIFT', 'SHIFT', 'SHIFT', 'SHIFT', 'SHIFT', 'SHIFT', 'SHIFT', 'SHIFT', 'SHIFT', 'SHIFT', 'SHIFT', 'SHIFT', 'SHIFT', 'SHIFT', 'SHIFT', 'SHIFT', 'SHIFT', 'SHIFT', 'V', 'SHIFT', 'SHIFT', 'SHIFT', 'SHIFT', '4', '5', 'SHIFT', 'SHIFT', 'SHIFT', 'SHIFT', 'SHIFT', 'SHIFT', 'SHIFT', 'SHIFT', 'SHIFT', 'SHIFT', 'SHIFT', 'SHIFT', 'SHIFT', 'SHIFT', 'SHIFT', 'SHIFT', '4', 'SHIFT', 'SHIFT', 'SHIFT', 'SHIFT', 'SHIFT', 'SHIFT', 'SHIFT', 'SHIFT', 'SHIFT', 'SHIFT', 'SHIFT', 'SHIFT', 'SHIFT', 'SHIFT', 'SHIFT', 'SHIFT', 'SHIFT', 'SHIFT', 'SHIFT', 'SHIFT', 'SHIFT', 'SHIFT', 'SHIFT', 'SHIFT', 'SHIFT', 'SHIFT', 'SHIFT', 'SHIFT', 'SHIFT', 'SHIFT', 'SHIFT', 'SHIFT', '6', 'SHIFT', 'SHIFT', 'SHIFT', 'SHIFT', 'SHIFT', 'SHIFT', 'SHIFT', 'SHIFT', 'SHIFT', 'SHIFT', 'SHIFT', 'SHIFT', 'SHIFT', 'SHIFT', 'SHIFT', 'SHIFT', 'SHIFT', 'SHIFT', 'SHIFT', 'SHIFT', 'SHIFT', 'SHIFT', 'SHIFT', 'SHIFT', 'SHIFT', 'SHIFT', 'SHIFT', 'SHIFT', 'SHIFT', 'SHIFT', 'SHIFT', 'SHIFT', 'SHIFT', 'SHIFT', 'SHIFT', 'SHIFT', 'SHIFT', 'SHIFT', 'SHIFT', 'SHIFT', 'SHIFT', 'SHIFT', 'SHIFT', 'SHIFT', 'SHIFT', 'SHIFT', 'SHIFT', 'SHIFT', 'SHIFT', 'SHIFT', 'SHIFT', 'SHIFT', 'SHIFT', 'SHIFT', 'SHIFT', 'SHIFT', 'SHIFT', 'SHIFT', 'SHIFT', 'SHIFT', 'SHIFT', 'SHIFT', 'SHIFT', 'SHIFT', 'SHIFT', 'SHIFT', 'SHIFT', 'SHIFT', 'SHIFT', 'SHIFT', 'SHIFT', 'SHIFT', 'SHIFT', 'SHIFT', 'SHIFT', 'SHIFT', 'SHIFT', 'SHIFT', 'SHIFT', 'SHIFT', 'SHIFT', 'SHIFT', 'SHIFT', 'SHIFT', 'SHIFT', 'SHIFT', 'SHIFT', 'SHIFT', 'SHIFT', 'SHIFT', 'SHIFT', 'SHIFT', 'SHIFT', 'SHIFT', 'SHIFT', 'SHIFT', 'SHIFT', 'SHIFT', 'SHIFT', 'SHIFT', 'SHIFT', 'SHIFT', 'SHIFT', 'SHIFT', 'SHIFT', 'SHIFT', 'SHIFT', 'SHIFT', 'SHIFT', 'SHIFT', 'SHIFT', 'SHIFT', 'SHIFT', 'SHIFT', 'SHIFT', 'SHIFT', 'SHIFT', 'SHIFT', 'SHIFT', 'SHIFT', 'SHIFT', 'SHIFT', 'SHIFT', 'SHIFT', 'SHIFT', 'SHIFT', 'SHIFT', 'SHIFT', 'SHIFT', 'SHIFT', 'SHIFT', 'SHIFT', 'SHIFT', 'SHIFT', 'SHIFT', 'SHIFT', 'SHIFT', 'SHIFT', 'SHIFT', 'SHIFT', 'SHIFT', 'SHIFT', 'SHIFT', 'SHIFT', 'SHIFT', 'SHIFT', 'SHIFT', 'SHIFT', 'SHIFT', 'SHIFT', '4', 'SHIFT', 'SHIFT', 'SHIFT', 'SHIFT', 'SHIFT', 'SHIFT', 'SHIFT', 'SHIFT', 'SHIFT', 'SHIFT', 'SHIFT', 'SHIFT', 'SHIFT', 'SHIFT', 'SHIFT', 'SHIFT', 'SHIFT', 'SHIFT', 'SHIFT', 'SHIFT', 'SHIFT', 'SHIFT', 'SHIFT', 'SHIFT', 'SHIFT', 'SHIFT', 'SHIFT', 'SHIFT', 'SHIFT', 'SHIFT', 'SHIFT', 'SHIFT', 'SHIFT', 'SHIFT', 'SHIFT', 'SHIFT', 'SHIFT', 'SHIFT', 'SHIFT', 'SHIFT', 'SHIFT', 'SHIFT', 'SHIFT', 'SHIFT', 'SHIFT', 'SHIFT', 'SHIFT', 'SHIFT', 'SHIFT', 'V', 'SHIFT', 'SHIFT', 'SHIFT', 'SHIFT', 'SHIFT', 'SHIFT', 'SHIFT', 'SHIFT', 'SHIFT', 'SHIFT', 'SHIFT', 'SHIFT', 'SHIFT', 'X', 'SHIFT', 'SHIFT', 'SHIFT', 'SHIFT', 'SHIFT', 'SHIFT', 'SHIFT', 'SHIFT', 'SHIFT', 'M', 'SHIFT', 'SHIFT', 'SHIFT', 'SHIFT', 'SHIFT', 'SHIFT', 'SHIFT', 'SHIFT', 'SHIFT', 'SHIFT', 'SHIFT', 'SHIFT', 'SHIFT', 'SHIFT', 'SHIFT', 'SHIFT', 'SHIFT', 'SHIFT', 'SHIFT', 'SHIFT', 'SHIFT', 'SHIFT', 'SHIFT', 'SHIFT', 'SHIFT', 'SHIFT', 'SHIFT', 'SHIFT', 'SHIFT', 'SHIFT', 'SHIFT', 'SHIFT', 'SHIFT', 'SHIFT', 'SHIFT', 'SHIFT', 'M', 'SHIFT', 'SHIFT', 'SHIFT', 'SHIFT', 'SHIFT', 'SHIFT', 'SHIFT', 'SHIFT', 'SHIFT', 'SHIFT', 'SHIFT', 'SHIFT', 'SHIFT', 'SHIFT', 'SHIFT', 'SHIFT', 'SHIFT', 'SHIFT', 'SHIFT', 'SHIFT', 'SHIFT', 'SHIFT', 'SHIFT', 'SHIFT', 'SHIFT', 'SHIFT', 'SHIFT', 'SHIFT', 'SHIFT', 'SHIFT', '2', 'SHIFT', 'SHIFT', 'SHIFT', 'SHIFT', 'SHIFT', '9', 'SHIFT', 'SHIFT', 'SHIFT', 'SHIFT', 'SHIFT', 'SHIFT', 'SHIFT', 'SHIFT', 'SHIFT', 'SHIFT', 'SHIFT', 'SHIFT', 'SHIFT', 'SHIFT', 'SHIFT', 'SHIFT', 'SHIFT', 'SHIFT', 'SHIFT', 'SHIFT', 'SHIFT', 'SHIFT', 'SHIFT', 'SHIFT', 'SHIFT', 'SHIFT', 'SHIFT', 'SHIFT', 'SHIFT', 'SHIFT', 'SHIFT', 'SHIFT', 'SHIFT', 'SHIFT', 'SHIFT', 'SHIFT', 'SHIFT', 'SHIFT', 'SHIFT', 'SHIFT', 'SHIFT', 'SHIFT', 'SHIFT', 'SHIFT', 'SHIFT', 'SHIFT', 'SHIFT', 'SHIFT', 'SHIFT', 'SHIFT', 'SHIFT', 'SHIFT', 'SHIFT', 'SHIFT', 'SHIFT', 'SHIFT', 'SHIFT', 'SHIFT', 'SHIFT', 'SHIFT', 'SHIFT', 'SHIFT', 'SHIFT', 'SHIFT', 'SHIFT', 'SHIFT', 'SHIFT', 'SHIFT', 'SHIFT', 'SHIFT', 'SHIFT', 'SHIFT', 'SHIFT', 'SHIFT', 'SHIFT', 'SHIFT', 'SHIFT', 'SHIFT', 'SHIFT', 'SHIFT', 'SHIFT', 'SHIFT', '4', 'SHIFT', 'SHIFT', 'SHIFT', 'SHIFT', 'SHIFT', 'SHIFT', 'SHIFT', 'SHIFT', 'SHIFT', 'SHIFT', 'SHIFT', 'SHIFT', 'SHIFT', 'SHIFT', 'SHIFT', 'SHIFT', 'SHIFT', 'SHIFT', 'SHIFT', 'SHIFT', 'SHIFT', '7', 'SHIFT', 'SHIFT', 'SHIFT', 'SHIFT', 'SHIFT', 'SHIFT', 'SHIFT', '4', '4', 'SHIFT', 'SHIFT', 'SHIFT', 'SHIFT', 'SHIFT', 'SHIFT', 'SHIFT', 'SHIFT', 'SHIFT', 'SHIFT', 'SHIFT', 'SHIFT', 'SHIFT', 'SHIFT', 'SHIFT', 'SHIFT', 'SHIFT', 'SHIFT', 'SHIFT', 'SHIFT', 'SHIFT', 'SHIFT', 'SHIFT', 'SHIFT', 'SHIFT', 'SHIFT', 'SHIFT', 'SHIFT', 'SHIFT', 'SHIFT', 'SHIFT', 'SHIFT', 'SHIFT', 'SHIFT', 'SHIFT', 'SHIFT', 'SHIFT', 'SHIFT', 'SHIFT', 'SHIFT', 'SHIFT', 'SHIFT', 'SHIFT', 'SHIFT', 'SHIFT', 'SHIFT', 'SHIFT', 'SHIFT', 'SHIFT', 'SHIFT', 'SHIFT', 'SHIFT', 'SHIFT', 'SHIFT', 'SHIFT', 'SHIFT', 'SHIFT', 'SHIFT', '4', 'SHIFT', 'SHIFT', 'SHIFT', 'SHIFT', 'SHIFT', 'SHIFT', 'SHIFT', 'SHIFT', 'SHIFT', 'SHIFT', 'SHIFT', 'SHIFT', 'SHIFT', 'SHIFT', 'SHIFT', 'SHIFT', 'SHIFT', 'SHIFT', 'SHIFT', 'SHIFT', 'SHIFT', 'SHIFT', 'SHIFT', 'SHIFT', 'SHIFT', 'SHIFT', 'SHIFT', 'SHIFT', 'SHIFT', 'SHIFT', 'SHIFT', 'SHIFT', 'SHIFT', 'SHIFT', 'SHIFT', 'SHIFT', 'SHIFT', 'SHIFT', 'SHIFT', 'SHIFT', 'SHIFT', 'SHIFT', 'SHIFT', 'SHIFT', 'SHIFT', 'SHIFT', 'SHIFT', 'SHIFT', 'SHIFT', 'SHIFT', 'SHIFT', 'SHIFT', 'SHIFT', 'SHIFT', 'SHIFT', 'SHIFT', 'SHIFT', 'SHIFT', 'SHIFT', 'SHIFT', 'SHIFT', 'SHIFT', 'SHIFT', '4', 'SHIFT', 'SHIFT', 'SHIFT', 'SHIFT', 'SHIFT', 'SHIFT', 'SHIFT', 'SHIFT', 'SHIFT', 'SHIFT', 'SHIFT', 'SHIFT', 'SHIFT', 'SHIFT', 'SHIFT', 'SHIFT', 'SHIFT', 'SHIFT', 'SHIFT', 'SHIFT', 'SHIFT', 'SHIFT', 'SHIFT', 'SHIFT', 'SHIFT', 'SHIFT', 'SHIFT', 'SHIFT', 'SHIFT', 'SHIFT', 'SHIFT', 'SHIFT', 'SHIFT', 'SHIFT', 'SHIFT', 'SHIFT', 'SHIFT', 'SHIFT', 'SHIFT', 'SHIFT', 'SHIFT', 'SHIFT', 'SHIFT', 'SHIFT', 'SHIFT', 'SHIFT', 'SHIFT', 'SHIFT', 'SHIFT', 'SHIFT', 'S', 'O', 'SHIFT', 'SHIFT', 'SHIFT', 'SHIFT', 'SHIFT', 'SHIFT', 'S', 'D', '4', 'I', 'S', 'I', 'I', 'S', 'S', 'I', 'I', 'I', 'I', 'S', 'I', 'I', 'I', 'S', 'S', 'I', 'S', 'S', 'I', 'I', 'I', 'L', 'I', 'I', 'I', 'S', 'S', 'I', 'J', 'I', 'SPACE', 'S', 'I', 'S', 'I', 'I', 'I', 'I', 'S', 'I', 'I', 'S', 'S', 'S', 'S', 'I', 'I', 'I', 'I', 'S', 'I', 'I', 'SPACE', 'I', 'I', 'I', 'I', 'I', 'S', 'S', 'S', 'S', 'I', 'I', 'I', 'I', 'I', 'I', 'I', 'S', 'S', 'S', 'I', 'I', 'I', 'I', 'I', 'I', 'S', 'J', 'S', 'S', 'I', 'S', 'I', 'I', 'I', 'I', 'S', 'O', 'I', 'I', 'S', 'S', 'I', 'I', 'S', 'I', 'S', 'I', 'S', 'I', 'S', 'I', 'I', 'I', 'SPACE', 'S', '9', 'I', 'I', 'S', '4', 'I', 'S', 'S', 'S', 'S', 'I', 'S', 'S', 'I', 'S', 'I', 'S', 'I', 'S', 'S', 'O', 'S', 'I', 'I', 'S', 'I', 'SHIFT', 'SHIFT', 'I', 'S', 'I', 'I', 'SPACE', 'I', 'I', 'I', 'I', 'SHIFT', 'SHIFT', 'SHIFT', 'SHIFT', 'SHIFT', 'SHIFT', 'SHIFT', 'SHIFT', 'SHIFT', 'SHIFT', 'SHIFT', 'SHIFT', 'SHIFT', 'SHIFT', 'SHIFT', 'SHIFT', 'SHIFT', 'SHIFT', 'CTRL', 'SHIFT', 'SHIFT', 'SHIFT', 'SHIFT', 'SHIFT', 'SHIFT', 'SHIFT', 'SHIFT', 'SHIFT', 'SHIFT', 'SHIFT', 'SHIFT', 'SHIFT', 'SHIFT', 'SHIFT', 'SHIFT', 'SHIFT', 'SHIFT', 'SHIFT', 'SHIFT', 'SHIFT', 'SHIFT', 'SHIFT', 'SHIFT', 'SHIFT', 'SHIFT', 'SHIFT', 'SHIFT', 'SHIFT', 'SHIFT', 'SHIFT', 'SHIFT', 'SHIFT', 'SHIFT', 'SHIFT', 'SHIFT', 'SHIFT', 'SHIFT', 'SHIFT', 'SHIFT', 'SHIFT', 'SHIFT', 'SHIFT', 'SHIFT', 'SHIFT', 'SHIFT', 'SHIFT', 'SHIFT', 'SHIFT', 'SHIFT', 'SHIFT', 'SHIFT', 'SHIFT', 'SHIFT', 'SHIFT', 'SHIFT', 'SHIFT', 'SHIFT', 'SHIFT', 'SHIFT', 'SHIFT', 'SHIFT', 'SHIFT', 'SHIFT', 'SHIFT', 'SHIFT', 'SHIFT', 'SHIFT', 'SHIFT', 'SHIFT', 'SHIFT', 'SHIFT', 'SHIFT', 'SHIFT', 'SHIFT', 'SHIFT', 'A', 'CTRL', '5', 'R', '7', 'CTRL', 'SHIFT', 'A', 'L', 'Z', '4', 'A', 'X', 'Z', 'E', 'T', 'T', 'X', 'Z', 'T', 'R', 'F', 'A', 'Z', 'CTRL', 'A', 'E', 'F', 'R', '4', '4', '5', 'Z', 'K', '4', '2', 'CTRL', 'CTRL', 'Z', '4', '0', '2', 'H', 'K', 'R', 'K', 'CTRL', 'CTRL', '7', '4', 'Z', 'P', '0', 'CTRL', 'F', 'R', 'F', 'Z', 'Z', 'A', 'Z', 'CTRL', '7', '4', 'T', 'H', 'B', 'B', 'H', 'H', 'H', 'H', 'B', 'CTRL', 'H', 'B', 'B', 'B', 'B', 'B', 'H', 'H', 'H', 'B', 'H', 'H', 'B', 'J', 'H', 'H', 'J', 'H', 'H', 'H', 'H', 'H', 'B', 'H', 'B', 'J', 'H', 'H', 'H', 'B', 'H', 'J', 'B', 'X', 'H', 'B', 'H', 'J', 'H', 'H', 'H', 'B', 'B', 'H', 'B', 'B', 'H', 'B', 'B', 'H', 'B', 'H', 'H', 'H', 'B', 'J', 'H', 'B', 'J', 'H', 'B', 'H', 'J', 'B', 'B', 'H', 'B', 'J', 'H', 'H', 'H', 'H', 'B', 'B', 'B', 'K', 'H', 'H', 'B', 'B', 'B', 'H', 'H', 'H', 'H', 'J', 'H', 'B', 'J', 'B', 'H', 'H', 'J', 'B', 'J', 'B', 'H', 'J', 'B', 'B', 'B', '4', 'H', 'H', 'H', 'B', 'J', 'H', 'B', 'B', 'B', 'B', 'B', 'B', 'B', 'B', 'H', 'B', 'J', 'B', 'B', 'H', 'B', 'B', 'H', 'B', 'H', 'H', 'H', 'B', 'H', 'H', 'B', 'B', 'H', 'B', 'H', 'B', 'H', 'H', 'B', 'K', 'E', 'X', '7', 'K', 'K', 'CTRL', '2', '7', 'CTRL', 'CTRL', 'H', 'X', 'F', 'CTRL', '2', 'R', '7', '2', 'R', '2', 'Z', 'T', 'Z', '7', '5', 'A', 'Q', 'A', 'A', 'A', 'A', 'A', 'W', 'A', 'Q', '4', 'A', 'Q', 'A', 'W', 'W', 'W', 'W', 'W', 'A', 'Q', 'W', 'W', 'W', 'A', 'W', 'W', 'W', 'W', 'A', 'W', 'W', 'W', 'W', 'A', 'A', 'A', 'A', 'A', 'W', 'A', 'W', 'A', 'Q', 'W', 'Q', 'A', 'A', 'Q', 'A', 'A', 'A', 'W', 'W', 'A', 'W', 'A', 'A', 'A', 'Q', 'A', 'W', 'W', 'W', 'W', 'Q', 'A', 'A', 'A', 'Q', 'Q', 'W', 'A', 'A', 'W', 'A', 'A', 'Q', 'W', 'Q', 'W', 'W', 'W', 'W', 'W', 'W', 'A', 'W', 'A', 'A', 'Q', 'W', 'W', 'W', 'W', 'T', 'W', 'Q', 'W', 'A', 'W', 'W', 'W', 'A', 'Q', 'A', 'W', 'Q', 'W', 'W', 'Q', 'W', 'A', 'W', 'W', 'Q', 'A', 'W', 'Q', 'W', 'A', 'Q', 'A', 'W', 'A', 'W', 'A', 'A', 'A', 'W', 'W', 'W', 'W', 'A', 'W', 'W', 'W', 'A', 'A', 'W', 'Q', 'W', 'Q', 'W', 'W', 'W', 'W', 'A', 'H', 'R', 'CTRL', 'CTRL', 'A', 'E', 'H', 'A', 'Z', 'Z', 'K', '2', 'X', 'X', 'R', 'C', 'C', 'C', 'C', 'C', 'C', 'D', 'C', 'D', 'C', 'C', 'C', 'C', '4', 'C', 'C', 'C', 'C', 'C', 'C', 'D', 'C', 'C', 'C', 'C', 'C', 'D', 'C', 'D', 'C', 'C', 'C', 'C', 'C', 'D', 'C', 'D', 'C', 'C', 'D', 'C', 'C', 'C', 'C', 'C', 'C', 'C', 'C', '4', 'D', 'C', 'C', 'C', 'C', 'C', 'D', 'D', 'D', 'C', 'C', 'C', 'D', 'C', 'C', 'C', 'D', 'C', 'C', 'C', 'X', 'C', 'C', 'C', 'C', 'D', 'D', 'C', 'SPACE', 'O', 'C', 'C', 'C', 'C', 'C', 'C', 'C', 'C', 'C', 'C', 'C', 'C', 'C', 'C', 'C', 'C', 'C', 'D', 'C', 'C', 'C', 'C', 'C', 'C', 'C', 'C', 'C', 'C', 'D', 'C', 'C', 'C', 'C', 'C', 'C', 'D', 'D', 'D', 'C', '2', 'Z', 'R', 'CTRL', 'Z', 'R', '4', 'A', 'T', 'H', 'CTRL', '4', 'CTRL', '2', 'R', 'CTRL', 'SHIFT', 'A', '2', '0', '2', 'K', 'K', 'K', 'H', 'I', 'K', 'K', 'K', 'K', 'K', 'K', 'K', 'K', 'K', 'K', 'K', 'K', 'K', 'K', 'K', 'K', 'K', 'K', 'K', 'K', 'K', 'I', 'K', 'K', 'K', 'K', 'K', 'K', 'K', 'K', 'K', '4', 'K', 'I', 'K', 'K', 'I', 'K', 'K', 'K', 'K', 'K', 'I', 'K', 'K', 'K', 'K', 'I', 'K', 'K', 'I', 'K', 'K', 'K', 'K', 'I', 'K', 'K', 'K', 'K', 'I', 'K', 'K', 'I', 'K', 'K', 'I', 'K', 'I', 'I', 'K', 'I', 'K', 'K', 'I', 'K', 'I', 'K', 'K', 'K', 'K', 'K', 'K', 'K', 'K', 'K', 'K', 'K', 'K', 'I', 'K', 'K', 'I', 'K', 'K', 'K', 'K', 'K', 'K', 'K', 'K', 'K', 'K', 'K', 'K', 'K', 'K', 'I', 'K', 'K', 'K', 'K', 'K', 'K', 'K', 'K', 'I', 'L', 'K', 'K', 'K', 'K', 'K', 'K', 'K', 'K', 'K', 'H', 'Z', 'CTRL', 'CTRL', 'Z', '5', 'CTRL', 'A', 'E', '2', 'R', 'R', 'R', 'P', '7', '4', '2', 'Z', 'L', 'CTRL', 'R', '5', 'Z', 'CTRL', 'A', '4', 'Z', 'R', 'W', 'A', 'A', 'A', 'Q', 'A', 'W', 'A', 'W', 'A', 'A', 'W', 'W', 'A', 'W', 'W', 'W', 'W', 'W', 'W', 'A', 'W', 'W', 'W', 'A', 'W', 'A', 'A', 'W', 'W', 'W', 'W', 'A', 'A', 'A', 'W', 'A', 'W', 'A', 'W', 'Q', 'W', 'A', 'A', 'A', 'W', 'A', 'Q', 'A', 'W', 'W', 'A', 'W', 'W', 'A', 'A', 'W', 'A', 'W', 'A', 'W', 'A', 'Q', 'A', 'Q', 'A', 'A', 'A', 'A', 'W', 'W', 'W', 'W', 'W', 'A', 'A', 'W', 'A', 'A', 'A', 'W', 'W', 'W', 'W', 'A', 'Q', 'W', 'A', 'W', 'W', 'A', 'W', 'A', 'A', 'A', 'W', 'W', 'W', 'W', 'W', 'W', 'A', 'A', 'W', 'A', 'W', 'A', 'Q', 'Q', 'W', 'A', 'W', 'Q', 'T', 'R', '4', 'K', 'Z', 'R', '7', '7', 'CTRL', 'CTRL', 'CTRL', 'Z', 'A', 'CTRL', 'G', 'G', 'T', '4', 'G', 'G', 'N', 'G', 'G', 'T', 'G', 'G', 'G', 'T', 'G', 'G', 'G', 'G', 'T', 'T', 'T', 'G', 'T', 'G', 'T', 'G', 'G', 'G', 'G', 'G', 'G', 'G', '4', 'G', 'T', 'T', 'G', 'N', 'G', 'T', 'G', 'G', 'T', 'G', 'N', 'T', 'T', 'G', 'T', 'T', 'T', 'G', 'T', 'T', 'T', 'T', 'G', 'T', 'T', '4', 'N', 'T', 'G', 'G', 'G', 'G', 'G', 'T', 'G', 'R', 'G', 'G', '4', 'G', 'G', 'G', 'H', 'T', 'G', 'T', 'N', 'G', 'G', 'G', 'G', 'T', 'G', 'G', 'N', 'G', 'G', 'G', 'T', 'G', 'G', 'G', 'G', 'T', 'G', 'G', 'G', 'T', 'G', 'G', 'G', 'G', 'G', 'T', 'T', 'G', 'T', 'T', 'G', 'G', 'T', 'N', 'G', 'G', 'G', 'G', 'T', 'T', 'G', '2', 'K', 'A', 'T', '5', 'Z', 'Z', 'Z', '4', 'E', 'R', 'Z', 'SHIFT', 'Z', 'CTRL', 'A', '0', '4', 'Z', 'O', 'L', 'O', 'O', 'O', 'O', 'O', 'O', 'L', 'O', 'O', 'L', 'O', 'L', 'L', 'O', 'O', 'L', 'O', '7', 'O', 'L', 'O', 'O', 'O', 'O', 'L', 'O', 'O', 'O', 'O', 'O', 'O', 'O', 'O', 'O', 'O', 'O', 'O', 'O', 'O', 'O', 'O', 'O', 'O', 'L', 'O', 'O', 'O', 'O', 'L', 'O', 'O', 'O', 'O', 'O', 'O', 'O', 'O', 'O', 'O', 'O', 'O', 'O', 'L', 'L', 'O', 'O', 'O', 'O', 'L', 'O', 'O', 'O', 'O', 'L', 'O', 'O', 'L', 'O', 'O', 'O', 'L', 'O', 'L', 'O', 'L', 'O', 'O', 'O', 'O', 'O', 'O', 'O', 'O', 'O', 'O', 'O', 'O', 'O', 'O', '7', 'O', 'O', 'O', 'O', 'O', 'O', 'O', 'L', 'L', 'O', 'O', 'O', 'O', 'O', 'O', 'L', 'L', 'O', 'Z', 'CTRL', 'Z', 'T', 'SUPPR', 'Z', 'A', 'SUPPR', 'X', 'R', 'E', 'F', 'Z', 'E', 'N', 'N', '4', 'CTRL', 'G', 'N', 'N', 'N', 'N', 'N', 'N', 'N', 'N', 'N', 'N', 'N', 'N', 'N', 'N', 'N', 'N', 'G', 'N', 'Y', 'N', 'N', 'G', 'N', 'G', 'N', 'N', 'N', 'N', 'N', 'N', 'N', 'N', 'N', 'N', 'N', 'N', 'N', 'N', 'N', 'N', 'N', 'N', 'N', 'N', 'N', 'G', 'G', 'N', 'N', 'G', 'N', 'N', 'N', 'N', 'N', 'N', 'N', 'G', 'N', 'G', 'N', 'N', 'N', 'N', 'N', 'N', 'N', 'N', 'N', 'N', 'G', 'N', 'N', 'N', 'G', 'N', 'N', 'G', 'N', 'N', 'N', 'N', 'G', 'G', 'N', 'N', 'N', 'G', 'G', 'N', 'N', 'G', 'N', 'G', 'F', 'N', 'N', 'N', 'N', 'N', 'N', 'N', 'N', 'N', 'N', 'N', 'N', 'N', 'N', '5', 'N', 'N', 'N', 'N', 'N', 'G', 'G', 'A', 'Z', 'Z', 'Z', 'R', 'R', 'CTRL', 'H', '7', 'CTRL', 'T', 'T', 'Z', 'A', 'A', 'X', 'A', '2', '2', '4', '2', '2', '2', '4', '4', '2', '2', '2', '4', '4', '2', '2', '2', '2', '2', '2', '2', '2', '2', '2', '2', '2', '2', '2', '2', '4', '2', '2', '2', '2', '4', '2', '2', '2', '2', '2', '4', '2', '2', '2', '2', '2', '4', '2', '2', '4', '2', '2', '2', '2', '2', '4', '2', '2', '4', '2', '2', '2', '2', '2', '2', '2', '2', '2', '2', '2', '2', '2', '2', '4', '4', '4', '2', '2', 'Q', '2', '4', '4', '2', '4', '2', '4', '2', '7', '2', '4', '4', '2', '2', '2', 'ENTER', '2', '4', '2', '4', '2', '2', '4', '4', '2', '4', '2', '4', '2', 'ENTER', '2', '2', '2', '4', '2', '2', '2', '4', '4', '2', '2', '4', '4', '2', '4', '2', '4', '2', '2', '4', '2', 'Z', 'A', 'H', 'K', '4', '2', '4', '0', 'A', 'SUPPR', '0', '0', 'SUPPR', 'SUPPR', 'SUPPR', 'SUPPR', 'SUPPR', '0', '0', 'SUPPR', '0', 'SUPPR', '0', '0', '0', '0', 'SUPPR', '0', 'SUPPR', 'SUPPR', 'SUPPR', '0', 'SUPPR', 'SUPPR', '0', '0', 'SUPPR', 'SUPPR', '0', '0', 'SUPPR', '0', 'SUPPR', '0', '0', 'SUPPR', 'SUPPR', 'SUPPR', 'SUPPR', '0', 'SUPPR', 'SUPPR', 'SUPPR', 'SUPPR', '0', 'SUPPR', '0', '0', '0', 'SUPPR', '0', '0', 'SUPPR', 'SUPPR', '0', '0', '0', '0', 'SUPPR', 'R', '0', 'SUPPR', 'SUPPR', '0', '0', 'SUPPR', 'SUPPR', 'SUPPR', 'SUPPR', 'SUPPR', 'SUPPR', 'SUPPR', 'SUPPR', 'SUPPR', 'SUPPR', '0', 'SUPPR', '0', 'SUPPR', 'SUPPR', '0', '0', 'SUPPR', 'SUPPR', 'SUPPR', 'SUPPR', 'SUPPR', 'SUPPR', 'R', 'SUPPR', '0', 'SUPPR', '0', '0', '0', '0', 'SUPPR', 'SUPPR', 'SUPPR', '0', 'SUPPR', 'SUPPR', 'SUPPR', 'SUPPR', '0', 'SUPPR', 'SUPPR', 'SUPPR', 'SUPPR', '0', '0', 'SUPPR', 'SUPPR', 'SUPPR', 'SUPPR', 'SUPPR', 'SUPPR', '7', 'SUPPR', 'CTRL', 'SUPPR', '0', 'SUPPR', 'SUPPR', 'SUPPR', 'SUPPR', 'SUPPR', '0', '0', 'SUPPR', 'SUPPR', 'SUPPR', 'SUPPR', 'SUPPR', 'SUPPR', 'SUPPR', 'SUPPR', 'SUPPR', 'SUPPR', '0', '0', '0', 'SUPPR', '0', '0', 'SUPPR', 'SUPPR', '4', '7', 'CTRL', 'T', 'CTRL', 'A', 'CTRL', 'E', 'A', '2', 'R', '4', '2', 'CTRL', 'SHIFT', '4', '2', '2', '2', '4', '2', '2', '2', '2', '2', '4', '2', '2', '4', '2', '2', '4', '2', '2', '4', '2', '2', '2', '2', '2', '2', '2', '2', '2', '2', '2', '4', '2', '2', '4', '2', '2', '2', '2', '4', '2', '4', '2', '2', '2', '2', '2', '2', '2', '2', '2', '2', '2', '2', '2', '2', '2', '2', '2', '2', '2', '2', '2', '4', '2', '2', '2', '2', '2', '2', '2', '4', '2', '2', '2', '2', '2', '2', '2', '2', '2', '2', '2', '2', '2', '2', '4', '4', '2', '2', '4', '2', 'X', '2', '2', '2', '2', '2', '2', '2', '4', '2', '4', '2', '2', '2', '2', '2', '2', '4', '2', '4', '2', '2', '2', '2', '4', '2', '4', '2', '2', '4', '2', '2', '2', '2', '4', '4', '0', '5', 'Z', 'R', 'R', '2', '4', 'G', 'CTRL', 'R', 'CTRL', '4', '2', '2', '4', '4', 'ENTER', '4', '2', '4', '4', '2', 'ENTER', '2', 'ENTER', '4', '2', '4', '4', '4', '4', '4', 'ENTER', '4', '2', '4', '4', '2', '2', '2', '2', '2', '2', '2', '4', '4', '4', '4', '2', '4', 'ENTER', '4', '2', '4', '2', '4', '4', '2', '2', '2', '2', '2', '4', '4', '4', '2', '2', '4', '2', '2', 'ENTER', '2', '4', '4', '4', '4', '4', '2', '4', '2', '4', '2', '2', '2', 'ENTER', '4', '4', '4', '2', '4', '2', '2', '2', '2', '2', '2', '4', '4', '2', '2', '2', '2', '6', '4', '2', '4', '4', '2', '4', '4', '2', '2', '2', '2', '2', '2', '2', '2', '2', '2', '2', '4', '4', '2', '2', '2', '4', '4', '2', '4', '2', '4', '2', '2', '2', 'ENTER', '4', '4', '2', '2', '4', '4', '4', '2', '2', '4', '7', '4', '2', '2', '4', '4', '2', '2', 'Z', 'CTRL', '7', 'CTRL', '4', '5', '4', 'P', '7', 'A', 'CTRL', 'CTRL', '4', 'R', 'A', 'H', 'ENTER', 'ENTER', '4', 'ENTER', 'ENTER', 'ENTER', 'ENTER', '2', 'ENTER', '4', 'ENTER', '4', 'ENTER', '4', '2', '4', '2', '4', 'ENTER', 'ENTER', '4', 'ENTER', '4', '2', 'ENTER', 'ENTER', '4', '4', 'ENTER', '4', '4', '4', 'ENTER', '4', '4', '4', '4', '4', '4', 'ENTER', '4', 'ENTER', '2', '4', 'ENTER', 'ENTER', '4', '2', 'ENTER', '4', 'ENTER', '2', '4', 'ENTER', '4', 'ENTER', 'ENTER', '4', '4', 'ENTER', '4', 'ENTER', 'ENTER', 'ENTER', '4', '4', '4', '4', '4', '4', '4', '4', '2', 'ENTER', 'ENTER', '4', '2', '4', '4', '4', '4', '2', '2', 'ENTER', 'ENTER', '4', '4', '4', '2', 'ENTER', '4', '4', '4', '4', 'ENTER', '4', 'ENTER', '4', '4', 'ENTER', 'ENTER', '4', 'ENTER', '4', '4', 'ENTER', 'ENTER', 'ENTER', 'ENTER', 'ENTER', '4', '4', '2', 'ENTER', 'ENTER', '4', '4', '4', 'ENTER', 'ENTER', 'ENTER', 'ENTER', '4', '4', 'ENTER', '4', '4', '4', 'ENTER', 'ENTER', '4', '4', 'ENTER', 'ENTER', 'ENTER', '4', '4', '4', 'ENTER', 'ENTER', '4', 'ENTER', '4', '4', '4', '4', 'ENTER', 'ENTER', '4', 'F', 'K', 'X', 'Z', 'R', '7', 'R', 'T', '6', '2', 'T', 'CTRL', 'Z', 'A', 'CTRL', 'CTRL', 'CTRL', 'CTRL', '7', 'E', '4', '2', '7', 'SUPPR', 'A', 'E', 'H', 'CTRL', '7', '4', '7', 'R', 'A', '4', 'X', 'X', '7', '2', 'A', '7', 'Z', 'Z', 'A', 'H', '7', 'Z']\n"
     ]
    }
   ],
   "source": [
    "res = get_prediction_list(model)\n",
    "print(res)"
   ]
  },
  {
   "cell_type": "code",
   "execution_count": 7,
   "id": "covered-developer",
   "metadata": {},
   "outputs": [
    {
     "name": "stdout",
     "output_type": "stream",
     "text": [
      "#####################\n",
      "['CTRL', 'CTRL', 'SUPPR', 'CTRL', '4', 'CTRL', 'CTRL', 'CTRL', 'CTRL', 'CTRL', 'CTRL', 'CTRL', 'CTRL', 'CTRL', 'CTRL', 'CTRL', 'CTRL', 'CTRL', 'SUPPR', 'SUPPR', 'SUPPR', 'SUPPR', 'SUPPR', '0', 'SUPPR', 'SUPPR', 'SUPPR', '0', 'SUPPR', 'SUPPR', 'SUPPR', '2', 'SUPPR', 'SUPPR', 'SUPPR', 'SUPPR', 'SUPPR', 'SUPPR', 'SUPPR', 'SUPPR', 'SUPPR', 'SUPPR']\n",
      "#####################\n",
      "['CTRL', 'CTRL', 'SUPPR', 'SUPPR', 'SUPPR', 'SUPPR', 'SUPPR', '0', 'SUPPR', 'SUPPR', 'SUPPR', '0', 'SUPPR', 'SUPPR', 'SUPPR', '2', 'SUPPR', 'SUPPR', 'SUPPR', 'SUPPR', 'SUPPR', 'SUPPR', 'SUPPR', 'SUPPR', 'SUPPR', 'SUPPR', 'SUPPR', 'SUPPR', 'SUPPR', 'SUPPR', 'SUPPR', 'SUPPR', 'SUPPR', 'SUPPR', 'SUPPR', 'SUPPR', 'SUPPR', 'SUPPR', 'SUPPR', 'SUPPR', 'SUPPR', 'SUPPR']\n",
      "#####################\n",
      "['CTRL', 'SUPPR', 'SUPPR', 'SUPPR', 'SUPPR', 'SUPPR', '0', 'SUPPR', 'SUPPR', 'SUPPR', '0', 'SUPPR', 'SUPPR', 'SUPPR', '2', 'SUPPR', 'SUPPR', 'SUPPR', 'SUPPR', 'SUPPR', 'SUPPR', 'SUPPR', 'SUPPR', 'SUPPR', 'SUPPR', 'SUPPR', 'SUPPR', 'SUPPR', 'SUPPR', 'SUPPR', 'SUPPR', 'SUPPR', 'SUPPR', 'SUPPR', 'SUPPR', 'SUPPR', 'SUPPR', 'SUPPR', 'SUPPR', 'SUPPR', 'SUPPR', 'SUPPR']\n",
      "#####################\n",
      "['CTRL', 'SUPPR', 'SUPPR', 'SUPPR', 'SUPPR', 'SUPPR', 'SUPPR', 'SUPPR', 'SUPPR', 'SUPPR', 'SUPPR', 'SUPPR', 'SUPPR', 'SUPPR', 'SUPPR', 'SUPPR', 'CTRL', '0', 'SUPPR', 'SUPPR', 'SUPPR', 'SUPPR', 'SUPPR', 'SUPPR', 'SUPPR', 'SUPPR', 'SUPPR', 'SUPPR', 'SUPPR', 'SUPPR', '0', 'SUPPR', 'SUPPR', 'SUPPR', 'SUPPR', 'SUPPR', 'SUPPR', 'SUPPR', 'SUPPR', 'SUPPR', 'SUPPR', 'SUPPR']\n",
      "#####################\n",
      "['CTRL', '0', 'SUPPR', 'SUPPR', 'SUPPR', 'SUPPR', 'SUPPR', 'SUPPR', 'SUPPR', 'SUPPR', 'SUPPR', 'SUPPR', 'SUPPR', 'SUPPR', '0', 'SUPPR', 'SUPPR', 'SUPPR', 'SUPPR', 'SUPPR', 'SUPPR', 'SUPPR', 'SUPPR', 'SUPPR', 'SUPPR', 'SUPPR', 'SUPPR', 'SUPPR', 'SUPPR', 'SUPPR', 'SUPPR', 'SUPPR', 'SUPPR', 'SUPPR', 'SUPPR', 'SUPPR', 'SUPPR', 'SUPPR', 'SUPPR', 'SUPPR', 'SUPPR', 'SUPPR']\n",
      "#####################\n",
      "['CTRL', 'SUPPR', 'SUPPR', 'SUPPR', 'SUPPR', 'SUPPR', 'SUPPR', 'SUPPR', 'SUPPR', 'SUPPR', 'SUPPR', 'SUPPR', '4', 'SUPPR', 'SUPPR', 'SUPPR', 'SUPPR', 'SUPPR', 'SUPPR', 'SUPPR', 'SUPPR', 'SUPPR', 'SUPPR', 'SUPPR', 'SUPPR', 'SUPPR', 'SUPPR', 'SUPPR', 'SUPPR', 'SUPPR', 'SUPPR', 'SUPPR', 'SUPPR', 'SUPPR', 'SUPPR', 'SUPPR', 'SUPPR', 'SUPPR', 'SUPPR', 'SUPPR', '4', 'SUPPR']\n",
      "#####################\n",
      "['CTRL', 'SUPPR', 'SUPPR', 'SUPPR', 'SUPPR', 'SUPPR', 'SUPPR', 'SUPPR', 'SUPPR', 'SUPPR', 'SUPPR', 'SUPPR', 'SUPPR', 'SUPPR', 'SUPPR', 'SUPPR', 'SUPPR', 'SUPPR', 'SUPPR', 'SUPPR', 'SUPPR', 'SUPPR', 'SUPPR', 'CTRL', 'SUPPR', 'SUPPR', 'SUPPR', 'SUPPR', 'SUPPR', 'SUPPR', 'SUPPR', 'SUPPR', 'SUPPR', 'SUPPR', 'SUPPR', 'SUPPR', 'SUPPR', 'SUPPR', 'SUPPR', 'SUPPR', 'SUPPR', 'SUPPR']\n",
      "#####################\n",
      "['CTRL', 'SUPPR', 'SUPPR', 'SUPPR', 'SUPPR', 'SUPPR', 'SUPPR', 'SUPPR', 'SUPPR', 'SUPPR', 'SUPPR', 'SUPPR', 'SUPPR', 'SUPPR', 'SUPPR', 'SUPPR', 'SUPPR', 'SUPPR', 'SUPPR', 'SUPPR', 'SUPPR', 'SUPPR', 'SUPPR', 'SUPPR', 'SUPPR', 'SUPPR', 'CTRL', 'SUPPR', 'SUPPR', 'SUPPR', 'SUPPR', 'SUPPR', 'SUPPR', 'SUPPR', 'SUPPR', 'SUPPR', 'SUPPR', 'SUPPR', 'SUPPR', 'SUPPR', 'SUPPR', 'SUPPR']\n",
      "#####################\n",
      "['CTRL', 'SUPPR', 'SUPPR', 'SUPPR', 'SUPPR', 'SUPPR', 'SUPPR', 'SUPPR', 'SUPPR', 'SUPPR', 'SUPPR', 'SUPPR', 'SUPPR', 'SUPPR', 'SUPPR', 'SUPPR', 'SUPPR', 'SUPPR', 'SUPPR', 'SUPPR', 'SUPPR', 'SUPPR', 'SUPPR', 'SUPPR', 'SUPPR', 'SUPPR', 'SUPPR', 'SUPPR', 'SUPPR', 'SUPPR', 'SUPPR', 'SUPPR', 'SUPPR', 'SUPPR', 'SUPPR', 'SUPPR', 'SUPPR', 'SUPPR', 'SUPPR', 'SUPPR', 'SUPPR', 'CTRL']\n",
      "#####################\n",
      "['CTRL', 'SUPPR', 'SUPPR', 'CTRL', 'SUPPR', 'SUPPR', 'SUPPR', 'SUPPR', 'SUPPR', '0', 'SUPPR', 'SUPPR', 'SUPPR', 'SUPPR', 'SUPPR', 'SUPPR', 'SUPPR', 'SUPPR', 'SUPPR', 'SUPPR', 'SUPPR', 'SUPPR', 'SUPPR', 'X', 'CTRL', 'CTRL', '2', 'CTRL', '7', 'T', 'CTRL', 'A', 'Z', '2', 'A', 'CTRL', '4', '4', '4', 'CTRL', 'F', 'Z']\n",
      "#####################\n",
      "['CTRL', 'SUPPR', 'SUPPR', 'SUPPR', 'SUPPR', 'SUPPR', '0', 'SUPPR', 'SUPPR', 'SUPPR', 'SUPPR', 'SUPPR', 'SUPPR', 'SUPPR', 'SUPPR', 'SUPPR', 'SUPPR', 'SUPPR', 'SUPPR', 'SUPPR', 'X', 'CTRL', 'CTRL', '2', 'CTRL', '7', 'T', 'CTRL', 'A', 'Z', '2', 'A', 'CTRL', '4', '4', '4', 'CTRL', 'F', 'Z', 'CTRL', 'P', '4']\n"
     ]
    }
   ],
   "source": [
    "get_creds(res)"
   ]
  },
  {
   "cell_type": "code",
   "execution_count": null,
   "id": "signal-responsibility",
   "metadata": {},
   "outputs": [],
   "source": []
  },
  {
   "cell_type": "code",
   "execution_count": null,
   "id": "anonymous-assumption",
   "metadata": {},
   "outputs": [],
   "source": []
  }
 ],
 "metadata": {
  "kernelspec": {
   "display_name": "Python 3",
   "language": "python",
   "name": "python3"
  },
  "language_info": {
   "codemirror_mode": {
    "name": "ipython",
    "version": 3
   },
   "file_extension": ".py",
   "mimetype": "text/x-python",
   "name": "python",
   "nbconvert_exporter": "python",
   "pygments_lexer": "ipython3",
   "version": "3.6.13"
  }
 },
 "nbformat": 4,
 "nbformat_minor": 5
}
