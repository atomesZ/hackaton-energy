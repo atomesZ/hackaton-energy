{
 "cells": [
  {
   "cell_type": "code",
   "execution_count": 1,
   "id": "ranging-acoustic",
   "metadata": {},
   "outputs": [],
   "source": [
    "from tensorflow.keras.layers.experimental.preprocessing import Normalization\n",
    "from tensorflow.keras.layers.experimental.preprocessing import CenterCrop\n",
    "\n",
    "from tensorflow.keras import layers\n",
    "import numpy as np\n",
    "import tensorflow as tf\n",
    "from tensorflow import keras\n",
    "\n",
    "\n",
    "from dataset_manager import *\n",
    "from predict import *\n",
    "\n",
    "train_dataset, test_dataset = get_dataset()\n",
    "d_list = list(test_dataset)\n",
    "\n",
    "X_train, Y_train = get_X_Y(train_dataset)\n",
    "\n",
    "X_test, Y_test = get_X_Y(test_dataset)\n",
    "\n",
    "#X = []\n",
    "#for i in range(0, len(Y_train) - 1):\n",
    "#    X.append([Y_train[i], X_train[i]])\n",
    "\n",
    "\n"
   ]
  },
  {
   "cell_type": "code",
   "execution_count": null,
   "id": "scenic-supplier",
   "metadata": {
    "scrolled": true
   },
   "outputs": [
    {
     "name": "stdout",
     "output_type": "stream",
     "text": [
      "Epoch 1/10\n",
      "6000/6000 [==============================] - 7s 1ms/step - loss: 0.0239 - accuracy: 0.1079\n",
      "Epoch 2/10\n",
      "6000/6000 [==============================] - 6s 1ms/step - loss: 0.0156 - accuracy: 0.4214\n",
      "Epoch 3/10\n",
      "6000/6000 [==============================] - 6s 1ms/step - loss: 0.0138 - accuracy: 0.4770\n",
      "Epoch 4/10\n",
      "6000/6000 [==============================] - 6s 1ms/step - loss: 0.0133 - accuracy: 0.4981\n",
      "Epoch 5/10\n",
      "6000/6000 [==============================] - 6s 1ms/step - loss: 0.0130 - accuracy: 0.5099\n",
      "Epoch 6/10\n",
      "6000/6000 [==============================] - 6s 1ms/step - loss: 0.0128 - accuracy: 0.5179\n",
      "Epoch 7/10\n",
      "6000/6000 [==============================] - 6s 1ms/step - loss: 0.0127 - accuracy: 0.5226\n",
      "Epoch 8/10\n",
      "6000/6000 [==============================] - 6s 1ms/step - loss: 0.0126 - accuracy: 0.5287\n",
      "Epoch 9/10\n",
      "5274/6000 [=========================>....] - ETA: 0s - loss: 0.0125 - accuracy: 0.5341"
     ]
    }
   ],
   "source": [
    "from sklearn.datasets import make_regression\n",
    "from keras.layers import Dense\n",
    "from keras.layers import Flatten\n",
    "from keras.models import Sequential\n",
    "from keras.optimizers import SGD\n",
    "from matplotlib import pyplot\n",
    "from dataset_manager import *\n",
    "from predict import *\n",
    "\n",
    "train_dataset, test_dataset = get_dataset()\n",
    "X_train, Y_train = get_X_Y_vectorized_int(train_dataset)\n",
    "X_test, Y_test = get_X_Y_vectorized_int(test_dataset)\n",
    "\n",
    "X_train, Y_train = shuffle_X_Y(X_train, Y_train)\n",
    "X_test, Y_test = shuffle_X_Y(X_test, Y_test)\n",
    "\n",
    "\n",
    "model = Sequential()\n",
    "#model.add(Flatten(input_shape=(len(X_train), 17)))\n",
    "model.add(Dense(17))\n",
    "for _ in range(6):\n",
    "    model.add(Dense(128, activation='sigmoid'))\n",
    "model.add(Dense(42))\n",
    "\n",
    "model.compile(loss='mean_squared_error', optimizer='adam', metrics=['accuracy'])\n",
    "\n",
    "\n",
    "model.fit(np.array(X_train), np.array(Y_train), epochs=10, batch_size=42)\n",
    "model.summary()"
   ]
  },
  {
   "cell_type": "code",
   "execution_count": null,
   "id": "nonprofit-professor",
   "metadata": {},
   "outputs": [],
   "source": [
    "test_loss, test_acc = model.evaluate(np.array(X_test), np.array(Y_test), verbose=3)\n",
    "\n",
    "print('\\nTest accuracy:', test_acc)"
   ]
  },
  {
   "cell_type": "code",
   "execution_count": null,
   "id": "indie-rhythm",
   "metadata": {},
   "outputs": [],
   "source": [
    "def get_prediction_list(model, pic=\"tohack/pics_LOGINMDP\"):\n",
    "    \"\"\"\n",
    "    The model is like \"model = LinearRegression()\" (or other algorithms)\n",
    "    \"\"\"\n",
    "\n",
    "    x_pred, info = get_pics_from_file(f\"../{pic}.bin\")\n",
    "    \n",
    "    res = []\n",
    "\n",
    "    preds_brut = model.predict(np.array(x_pred))\n",
    "    for pred in preds_brut:\n",
    "        itemindex = np.where(pred==max(pred))[0][0]\n",
    "        prediction = d_list[itemindex]\n",
    "        if \"data\" in pic or prediction != 'NOKEY':\n",
    "            res.append(prediction)\n",
    "    return res\n",
    "\n",
    "\n",
    "def get_creds(prediction_list):\n",
    "    for i_k in range(len(prediction_list)):\n",
    "        if prediction_list[i_k] == 'CTRL' and i_k + 2 < len(prediction_list) and prediction_list[i_k + 2] == 'SUPPR':\n",
    "            print('#####################')\n",
    "            print(prediction_list[i_k:i_k + 42])\n"
   ]
  },
  {
   "cell_type": "code",
   "execution_count": null,
   "id": "religious-sullivan",
   "metadata": {
    "scrolled": true
   },
   "outputs": [],
   "source": [
    "def compute_accuracy_key(key):\n",
    "    res = get_prediction_list(model, pic=f\"data/pics_{key}\")\n",
    "    return (key, len(res), res.count(key), res.count(key) / len(res) * 100)\n",
    "    \n",
    "def compute_accuracy():\n",
    "    accuracy = {}\n",
    "    for key in d_list:\n",
    "        accuracy[key] = compute_accuracy_key(key)[-1]\n",
    "        \n",
    "    return accuracy\n",
    "    \n",
    "accuracy = compute_accuracy()\n",
    "for key, acc in accuracy.items():\n",
    "    print(key, acc)\n",
    "\n",
    "print(\"accuracy: \", sum(accuracy.values()) / 42)"
   ]
  },
  {
   "cell_type": "code",
   "execution_count": null,
   "id": "patient-newton",
   "metadata": {
    "scrolled": false
   },
   "outputs": [],
   "source": [
    "res = get_prediction_list(model)\n",
    "print(res)"
   ]
  },
  {
   "cell_type": "code",
   "execution_count": null,
   "id": "covered-developer",
   "metadata": {},
   "outputs": [],
   "source": [
    "get_creds(res)"
   ]
  },
  {
   "cell_type": "code",
   "execution_count": null,
   "id": "analyzed-georgia",
   "metadata": {},
   "outputs": [],
   "source": []
  },
  {
   "cell_type": "code",
   "execution_count": null,
   "id": "buried-median",
   "metadata": {},
   "outputs": [],
   "source": []
  }
 ],
 "metadata": {
  "kernelspec": {
   "display_name": "Python 3",
   "language": "python",
   "name": "python3"
  },
  "language_info": {
   "codemirror_mode": {
    "name": "ipython",
    "version": 3
   },
   "file_extension": ".py",
   "mimetype": "text/x-python",
   "name": "python",
   "nbconvert_exporter": "python",
   "pygments_lexer": "ipython3",
   "version": "3.6.13"
  }
 },
 "nbformat": 4,
 "nbformat_minor": 5
}
