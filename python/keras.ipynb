{
 "cells": [
  {
   "cell_type": "code",
   "execution_count": null,
   "id": "relative-buying",
   "metadata": {},
   "outputs": [],
   "source": [
    "from tensorflow.keras.layers.experimental.preprocessing import Normalization\n",
    "from tensorflow.keras.layers.experimental.preprocessing import CenterCrop\n",
    "\n",
    "from tensorflow.keras import layers\n",
    "import numpy as np\n",
    "import tensorflow as tf\n",
    "from tensorflow import keras\n",
    "\n",
    "\n",
    "from dataset_manager import *\n",
    "from predict import *\n",
    "\n",
    "train_dataset, test_dataset = get_dataset()\n",
    "\n",
    "X_train, Y_train = get_X_Y(train_dataset)\n",
    "\n",
    "X_test, Y_test = get_X_Y(test_dataset)\n",
    "\n",
    "#X = []\n",
    "#for i in range(0, len(Y_train) - 1):\n",
    "#    X.append([Y_train[i], X_train[i]])\n",
    "\n",
    "\n"
   ]
  },
  {
   "cell_type": "code",
   "execution_count": null,
   "id": "imposed-joyce",
   "metadata": {
    "scrolled": true
   },
   "outputs": [],
   "source": [
    "from sklearn.datasets import make_regression\n",
    "from keras.layers import Dense\n",
    "from keras.layers import Flatten\n",
    "from keras.models import Sequential\n",
    "from keras.optimizers import SGD\n",
    "from matplotlib import pyplot\n",
    "from dataset_manager import *\n",
    "from predict import *\n",
    "\n",
    "train_dataset, test_dataset = get_dataset()\n",
    "X_train, Y_train = get_X_Y(train_dataset)\n",
    "X_test, Y_test = get_X_Y(test_dataset)\n",
    "\n",
    "d_list = list(train_dataset)\n",
    "\n",
    "X = []\n",
    "Y = []\n",
    "i = 0\n",
    "for k in dataset:\n",
    "    X += dataset[k]\n",
    "    Y += [i] * len(dataset[k])\n",
    "    i += 1\n",
    "\n",
    "\n",
    "model = Sequential()\n",
    "#model.add(Flatten(input_shape=(len(X_train), 17)))\n",
    "model.add(Dense(17))\n",
    "model.add(Dense(128, activation='relu'))\n",
    "model.add(Dense(42))\n",
    "\n",
    "model.compile(loss='mean_squared_error', optimizer='adam')\n",
    "\n",
    "\n",
    "model.fit(np.array(X_train), np.array(Y_mod_train), epochs=10)\n",
    "model.summary()\n",
    "#print(Y_train)"
   ]
  },
  {
   "cell_type": "code",
   "execution_count": null,
   "id": "acoustic-gross",
   "metadata": {},
   "outputs": [],
   "source": [
    "Y_mod_test = []\n",
    "\n",
    "for i in Y_test:\n",
    "    if (i == \"SHIFT\"):\n",
    "        Y_mod_test.append(-1)\n",
    "    elif(i == \"CTRL\"):\n",
    "        Y_mod_test.append(-3)\n",
    "    elif(i == \"ENTER\"):\n",
    "        Y_mod_test.append(-4)\n",
    "    elif(i == \"SUPPR\"):\n",
    "        Y_mod_test.append(-5)\n",
    "    elif(i == \"NOKEY\"):\n",
    "        Y_mod_test.append(-6)\n",
    "    elif(i == \"SPACE\"):\n",
    "        Y_mod_test.append(-7)\n",
    "    else:\n",
    "        Y_mod_test.append(ord(i))\n",
    "\n",
    "\n",
    "test_acc = model.evaluate(np.array(X_test), np.array(Y_mod_test), verbose=2)\n",
    "\n",
    "print('\\nTest accuracy:', test_acc)"
   ]
  },
  {
   "cell_type": "code",
   "execution_count": null,
   "id": "sudden-segment",
   "metadata": {},
   "outputs": [],
   "source": []
  }
 ],
 "metadata": {
  "kernelspec": {
   "display_name": "Python 3",
   "language": "python",
   "name": "python3"
  },
  "language_info": {
   "codemirror_mode": {
    "name": "ipython",
    "version": 3
   },
   "file_extension": ".py",
   "mimetype": "text/x-python",
   "name": "python",
   "nbconvert_exporter": "python",
   "pygments_lexer": "ipython3",
   "version": "3.8.6"
  }
 },
 "nbformat": 4,
 "nbformat_minor": 5
}
