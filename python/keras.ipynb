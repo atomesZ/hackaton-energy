{
 "cells": [
  {
   "cell_type": "code",
   "execution_count": null,
   "id": "ranging-acoustic",
   "metadata": {},
   "outputs": [],
   "source": [
    "from tensorflow.keras.layers.experimental.preprocessing import Normalization\n",
    "from tensorflow.keras.layers.experimental.preprocessing import CenterCrop\n",
    "\n",
    "from tensorflow.keras import layers\n",
    "import numpy as np\n",
    "from termcolor import colored\n",
    "import tensorflow as tf\n",
    "from tensorflow import keras\n",
    "\n",
    "\n",
    "from dataset_manager import *\n",
    "from predict import *\n",
    "from trame_show import *\n",
    "\n",
    "train_dataset, test_dataset = get_dataset()\n",
    "d_list = list(test_dataset)\n",
    "\n",
    "X_train, Y_train = get_X_Y(train_dataset)\n",
    "\n",
    "X_test, Y_test = get_X_Y(test_dataset)\n",
    "\n",
    "X_login_mdp, _ = get_pics_from_file(f\"../tohack/pics_LOGINMDP.bin\")\n",
    "\n",
    "#X = []\n",
    "#for i in range(0, len(Y_train) - 1):\n",
    "#    X.append([Y_train[i], X_train[i]])\n",
    "\n",
    "\n"
   ]
  },
  {
   "cell_type": "code",
   "execution_count": null,
   "id": "scenic-supplier",
   "metadata": {
    "scrolled": true
   },
   "outputs": [],
   "source": [
    "from sklearn.datasets import make_regression\n",
    "from keras.layers import Dense\n",
    "from keras.layers import Flatten\n",
    "from keras.layers import Conv1D\n",
    "from keras.layers import MaxPooling1D\n",
    "from keras.models import Sequential\n",
    "from keras.optimizers import SGD\n",
    "from matplotlib import pyplot\n",
    "from dataset_manager import *\n",
    "from predict import *\n",
    "\n",
    "train_dataset, test_dataset = get_dataset()\n",
    "X_train, Y_train = get_X_Y_vectorized_int(train_dataset)\n",
    "X_test, Y_test = get_X_Y_vectorized_int(test_dataset)\n",
    "\n",
    "X_train, Y_train = shuffle_X_Y(X_train, Y_train)\n",
    "X_test, Y_test = shuffle_X_Y(X_test, Y_test)\n",
    "\n",
    "model = Sequential()\n",
    "#model.add(Flatten(input_shape=(len(X_train), 17)))\n",
    "model.add(Dense(17))\n",
    "for _ in range(6):\n",
    "    model.add(Dense(128, activation='sigmoid'))\n",
    "model.add(Dense(42))\n",
    "\n",
    "model.compile(loss='mean_squared_error', optimizer='adam', metrics=['accuracy'])\n",
    "\n",
    "\n",
    "model.fit(np.array(X_train), np.array(Y_train), epochs=10)\n",
    "model.summary()"
   ]
  },
  {
   "cell_type": "code",
   "execution_count": null,
   "id": "nonprofit-professor",
   "metadata": {},
   "outputs": [],
   "source": [
    "test_loss, test_acc = model.evaluate(np.array(X_test), np.array(Y_test), verbose=3)\n",
    "\n",
    "print('\\nTest accuracy:', test_acc)"
   ]
  },
  {
   "cell_type": "code",
   "execution_count": null,
   "id": "religious-sullivan",
   "metadata": {
    "scrolled": true
   },
   "outputs": [],
   "source": [
    "accuracy = compute_accuracy_keras(model, d_list, X_test, Y_test)\n",
    "for key, acc in accuracy.items():\n",
    "    print(key, acc)\n",
    "    \n",
    "print(\"accuracy: \", sum(accuracy.values()) / 42)"
   ]
  },
  {
   "cell_type": "code",
   "execution_count": null,
   "id": "patient-newton",
   "metadata": {
    "scrolled": true
   },
   "outputs": [],
   "source": [
    "res = get_prediction_list_keras(model, d_list)\n",
    "print(res)"
   ]
  },
  {
   "cell_type": "code",
   "execution_count": null,
   "id": "covered-developer",
   "metadata": {},
   "outputs": [],
   "source": [
    "get_creds(res)"
   ]
  },
  {
   "cell_type": "code",
   "execution_count": null,
   "id": "buried-median",
   "metadata": {
    "scrolled": true
   },
   "outputs": [],
   "source": [
    "out = \"\"\n",
    "trames80 = {}\n",
    "for index, key in enumerate(res):\n",
    "    if key not in []:\n",
    "        out += colored(key, 'red' if accuracy[key] >= 0.85 else 'grey') + \" \"\n",
    "        if accuracy[key] >= 0.85:\n",
    "            if key not in trames80:\n",
    "                trames80[key] = []\n",
    "            trames80[key].append(X_login_mdp[index])\n",
    "print(out)"
   ]
  },
  {
   "cell_type": "code",
   "execution_count": null,
   "id": "recorded-growing",
   "metadata": {
    "scrolled": true
   },
   "outputs": [],
   "source": [
    "print(list(trames80.keys()))\n",
    "\n",
    "for key in trames80:\n",
    "    trame_show_key('NOKEY')\n",
    "    trame_show_key(key)\n",
    "    trame_show(trames80[key], f\"{key} - LOGINMDP\", 0)\n",
    "    print('===========================')"
   ]
  },
  {
   "cell_type": "code",
   "execution_count": null,
   "id": "worse-remedy",
   "metadata": {},
   "outputs": [],
   "source": []
  }
 ],
 "metadata": {
  "kernelspec": {
   "display_name": "Python 3",
   "language": "python",
   "name": "python3"
  },
  "language_info": {
   "codemirror_mode": {
    "name": "ipython",
    "version": 3
   },
   "file_extension": ".py",
   "mimetype": "text/x-python",
   "name": "python",
   "nbconvert_exporter": "python",
   "pygments_lexer": "ipython3",
   "version": "3.6.13"
  }
 },
 "nbformat": 4,
 "nbformat_minor": 5
}
