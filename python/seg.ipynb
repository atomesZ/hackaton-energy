{
 "cells": [
  {
   "cell_type": "code",
   "execution_count": null,
   "id": "preceding-aerospace",
   "metadata": {},
   "outputs": [],
   "source": [
    "%matplotlib inline\n",
    "from tensorflow.keras.layers.experimental.preprocessing import Normalization\n",
    "from sklearn import preprocessing\n",
    "from sklearn.datasets import make_regression\n",
    "from keras.layers import Dense\n",
    "from keras.layers import Flatten\n",
    "from keras.models import Sequential\n",
    "from keras.optimizers import SGD\n",
    "from dataset_manager import *\n",
    "from predict import *\n",
    "from trame_show import *\n",
    "from datetime import date, datetime\n",
    "from termcolor import colored\n",
    "import random\n",
    "\n",
    "train_dataset, test_dataset = get_dataset()\n",
    "shift_letter(train_dataset, test_dataset)\n",
    "d_list = list(test_dataset)\n",
    "\n",
    "#train_dataset, test_dataset = filtre(train_dataset, test_dataset, 0.3)\n",
    "\n",
    "X_train, Y_train = get_X_Y_vectorized_int(train_dataset)\n",
    "X_test, Y_test = get_X_Y_vectorized_int(test_dataset)\n",
    "\n",
    "X_train, Y_train = shuffle_X_Y(X_train, Y_train)\n",
    "X_test, Y_test = shuffle_X_Y(X_test, Y_test)\n",
    "\n",
    "#X_login_mdp, _ = get_pics_from_file(f\"../tohack/pics_LOGINMDP.bin\")\n",
    "#X_login_mdp_filtred = filtre_result(X_login_mdp, np.array(train_dataset.get('NOKEY')).mean(0), 0.3)\n",
    "\n",
    "#for l in range(0, len(X_login_mdp_filtred), 500):\n",
    "#    trame_showw(X_login_mdp_filtred, \"LOGINMDP\", l)\n",
    "#std_scale = preprocessing.StandardScaler().fit(X_train)\n",
    "#X_train = std_scale.transform(X_train)"
   ]
  },
  {
   "cell_type": "code",
   "execution_count": null,
   "id": "deadly-raleigh",
   "metadata": {},
   "outputs": [],
   "source": [
    "def train_model(epochs, batch_size, couches_neu):\n",
    "    \"\"\"Réseau de neurones\"\"\"\n",
    "    delta_time = datetime.now().time()\n",
    "    model = Sequential()\n",
    "    model.add(Dense(17))\n",
    "    for _ in range(6):\n",
    "        model.add(Dense(128, activation='sigmoid'))\n",
    "    model.add(Dense(len(d_list)))\n",
    "\n",
    "    model.compile(loss='mean_squared_error', optimizer='adam', metrics=['accuracy'])\n",
    "\n",
    "    model.fit(np.array(X_train), np.array(Y_train), epochs=epochs, batch_size=batch_size, )\n",
    "    \n",
    "    test_loss, test_acc = model.evaluate(np.array(X_test), np.array(Y_test), verbose=0)\n",
    "\n",
    "    accuracy = compute_accuracy_keras(model, d_list, X_test, Y_test)\n",
    "    real_accu = sum(accuracy.values()) / len(d_list)\n",
    "    \n",
    "    #delta_time = datetime.combine(date.min, datetime.now().time()) - datetime.combine(date.min, delta_time)\n",
    "    #plt.scatter([couches_neu], [real_accu], label='sortie_nbr={0}, time={1}s, 1st accu={2}'.format(couches_neu, round(delta_time.seconds, 3), round(test_acc, 3)))\n",
    "    #print('sortie_nbr={0}, real_accu={1}, 1st accu={2}   {3}'.format(couches_neu, round(real_accu, 3), round(test_acc, 3), test_loss))\n",
    "    return model"
   ]
  },
  {
   "cell_type": "code",
   "execution_count": null,
   "id": "colored-growing",
   "metadata": {},
   "outputs": [],
   "source": [
    "model = train_model(10, 60, 6)"
   ]
  },
  {
   "cell_type": "code",
   "execution_count": null,
   "id": "signal-velvet",
   "metadata": {},
   "outputs": [],
   "source": [
    "accuracy = compute_accuracy_keras(model, d_list, X_test, Y_test)\n",
    "print(sum(accuracy.values()) / len(d_list))\n",
    "for key, acc in accuracy.items():\n",
    "    print(key, acc)"
   ]
  },
  {
   "cell_type": "code",
   "execution_count": null,
   "id": "optical-feedback",
   "metadata": {},
   "outputs": [],
   "source": [
    "res = get_prediction_list_keras(model, d_list)\n",
    "print(res)\n",
    "get_creds(res)"
   ]
  },
  {
   "cell_type": "code",
   "execution_count": null,
   "id": "naughty-alliance",
   "metadata": {},
   "outputs": [],
   "source": [
    "trame_show_result(train_dataset, accuracy, res, 0.8)"
   ]
  },
  {
   "cell_type": "code",
   "execution_count": null,
   "id": "representative-school",
   "metadata": {},
   "outputs": [],
   "source": []
  },
  {
   "cell_type": "code",
   "execution_count": null,
   "id": "dense-tunisia",
   "metadata": {},
   "outputs": [],
   "source": []
  }
 ],
 "metadata": {
  "kernelspec": {
   "display_name": "Python 3",
   "language": "python",
   "name": "python3"
  },
  "language_info": {
   "codemirror_mode": {
    "name": "ipython",
    "version": 3
   },
   "file_extension": ".py",
   "mimetype": "text/x-python",
   "name": "python",
   "nbconvert_exporter": "python",
   "pygments_lexer": "ipython3",
   "version": "3.8.6"
  }
 },
 "nbformat": 4,
 "nbformat_minor": 5
}
