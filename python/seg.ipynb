{
 "cells": [
  {
   "cell_type": "code",
   "execution_count": null,
   "id": "preceding-aerospace",
   "metadata": {
    "scrolled": true
   },
   "outputs": [],
   "source": [
    "%matplotlib inline\n",
    "from tensorflow.keras.layers.experimental.preprocessing import Normalization\n",
    "from sklearn import preprocessing\n",
    "from sklearn.datasets import make_regression\n",
    "from keras.layers import Dense\n",
    "from keras.layers import Flatten\n",
    "from keras.models import Sequential\n",
    "from keras.optimizers import SGD\n",
    "from dataset_manager import *\n",
    "from predict import *\n",
    "from trame_show import *\n",
    "from datetime import date, datetime\n",
    "from termcolor import colored\n",
    "import random\n",
    "\n",
    "train_dataset, test_dataset = get_dataset()\n",
    "\n",
    "shift_letter(train_dataset, test_dataset)\n",
    "d_list = list(test_dataset)\n",
    "\n",
    "#train_dataset, test_dataset = filtre(train_dataset, test_dataset, 0.3)\n",
    "\n",
    "X_train, Y_train = get_X_Y_vectorized_int(train_dataset)\n",
    "X_test, Y_test = get_X_Y_vectorized_int(test_dataset)\n",
    "\n",
    "X_train, Y_train = shuffle_X_Y(X_train, Y_train)\n",
    "X_test, Y_test = shuffle_X_Y(X_test, Y_test)\n",
    "\n",
    "#X_login_mdp, _ = get_pics_from_file(f\"../tohack/pics_LOGINMDP.bin\")\n",
    "#X_login_mdp_filtred = filtre_result(X_login_mdp, np.array(train_dataset.get('NOKEY')).mean(0), 0.3)\n",
    "\n",
    "#for l in range(0, len(X_login_mdp_filtred), 500):\n",
    "#    trame_showw(X_login_mdp_filtred, \"LOGINMDP\", l)\n",
    "#std_scale = preprocessing.StandardScaler().fit(X_train)\n",
    "#X_train = std_scale.transform(X_train)"
   ]
  },
  {
   "cell_type": "code",
   "execution_count": null,
   "id": "deadly-raleigh",
   "metadata": {},
   "outputs": [],
   "source": [
    "def train_model(epochs, batch_size, couches_neu):\n",
    "    \"\"\"Réseau de neurones\"\"\"\n",
    "    delta_time = datetime.now().time()\n",
    "    model = Sequential()\n",
    "    model.add(Dense(17))\n",
    "    for _ in range(6):\n",
    "        model.add(Dense(128, activation='sigmoid'))\n",
    "    model.add(Dense(len(d_list)))\n",
    "\n",
    "    model.compile(loss='mean_squared_error', optimizer='adam', metrics=['accuracy'])\n",
    "\n",
    "    model.fit(np.array(X_train), np.array(Y_train), epochs=epochs, batch_size=batch_size, )\n",
    "    \n",
    "    test_loss, test_acc = model.evaluate(np.array(X_test), np.array(Y_test), verbose=0)\n",
    "\n",
    "    accuracy = compute_accuracy_keras(model, d_list, X_test, Y_test)\n",
    "    real_accu = sum(accuracy.values()) / len(d_list)\n",
    "    \n",
    "    #delta_time = datetime.combine(date.min, datetime.now().time()) - datetime.combine(date.min, delta_time)\n",
    "    #plt.scatter([couches_neu], [real_accu], label='sortie_nbr={0}, time={1}s, 1st accu={2}'.format(couches_neu, round(delta_time.seconds, 3), round(test_acc, 3)))\n",
    "    #print('sortie_nbr={0}, real_accu={1}, 1st accu={2}   {3}'.format(couches_neu, round(real_accu, 3), round(test_acc, 3), test_loss))\n",
    "    return model"
   ]
  },
  {
   "cell_type": "code",
   "execution_count": null,
   "id": "colored-growing",
   "metadata": {},
   "outputs": [],
   "source": [
    "model = train_model(10, 60, 6)"
   ]
  },
  {
   "cell_type": "code",
   "execution_count": null,
   "id": "signal-velvet",
   "metadata": {
    "scrolled": true
   },
   "outputs": [],
   "source": [
    "accuracy = compute_accuracy_keras(model, d_list, X_test, Y_test)\n",
    "print(sum(accuracy.values()) / len(d_list))\n",
    "for key, acc in accuracy.items():\n",
    "    print(key, acc)\n",
    "    \n",
    "print(\"accuracy: \", sum(accuracy.values()) / 42)"
   ]
  },
  {
   "cell_type": "code",
   "execution_count": null,
   "id": "optical-feedback",
   "metadata": {
    "scrolled": false
   },
   "outputs": [],
   "source": [
    "res = get_prediction_list_keras(model, d_list)\n",
    "print(res)\n",
    "get_creds(res)"
   ]
  },
  {
   "cell_type": "code",
   "execution_count": null,
   "id": "naughty-alliance",
   "metadata": {
    "scrolled": true
   },
   "outputs": [],
   "source": [
    "trame_show_result(train_dataset, accuracy, res, 0.8)"
   ]
  },
  {
   "cell_type": "code",
   "execution_count": null,
   "id": "representative-school",
   "metadata": {
    "scrolled": false
   },
   "outputs": [],
   "source": [
    "def find_start_sequence_index(arr, sub):\n",
    "    start_seq, i_seq = None, 0\n",
    "    for i_arr, e_arr in enumerate(arr):\n",
    "        if not start_seq and sub[0] == e_arr:\n",
    "            start_seq, i_seq = i_arr, 1\n",
    "        elif start_seq and len(sub) <= i_seq:\n",
    "            return start_seq\n",
    "        elif start_seq and sub[i_seq] != e_arr:\n",
    "            start_seq, i_seq = None, 0\n",
    "        elif i_seq:\n",
    "            i_seq += 1\n",
    "    return start_seq\n",
    "\n",
    "def trame_showw(X, key, figure_nbr):\n",
    "    plt.figure()\n",
    "    for i in X:\n",
    "        plt.plot(range(1, len(i) + 1), i)\n",
    "    \n",
    "    plt.xlim(1, 17)\n",
    "    plt.ylim(0, 2.5)\n",
    "    plt.xlabel(\"freq\")\n",
    "    plt.ylabel(\"Intensité\")\n",
    "    plt.title(\"{0}, {1}-{2} trames\".format(key, 0, figure_nbr))\n",
    "    plt.grid()\n",
    "    plt.show()\n",
    "\n",
    "ctrl_alt_del_seq = (1481, 2147)\n",
    "login_seq = (3011, 5069)\n",
    "X_login_mdp, _ = get_pics_from_file(\"../tohack/pics_LOGINMDP.bin\")\n",
    " \n",
    "trame_showw(X_login_mdp[login_seq[0]:login_seq[1]], \"LOGIN\", login_seq[1] - login_seq[0])\n",
    "\n",
    "letters = [\n",
    "        (0, [\n",
    "            'C', 'E', 'C', 'E', 'E', 'E', 'D', 'D', 'D', 'E', 'D', 'D', 'E', 'L', 'D', 'D', 'C', 'D', 'E', 'D', 'E', 'E', 'E', 'C', 'E', 'E', 'D', 'E', 'D', 'E', 'D', 'C', 'C', 'C', 'E', 'D', 'E', 'C', 'E', 'E', 'C', 'E', 'D', 'E', 'E', 'E', 'E', 'E', 'D', 'E', 'E', 'E', 'D', 'E', 'C', 'D', 'E', 'C', 'D', 'E', 'E', 'D', 'C', 'D', 'D', 'E', 'C', 'E', 'E', 'E', 'Q', 'E', 'D', 'K', 'D', 'E', 'E', 'E', 'E', 'E', 'E', 'E', 'E', 'D', 'E', 'E', 'NOKEY', 'E', 'E', 'C', 'E', 'E', 'D', 'SHIFT', 'SHIFT', 'C', 'E', 'E',\n",
    "        ], 3224),\n",
    "        (1, [\n",
    "            'G', 'N', 'G', 'G', 'c', 'NOKEY', 'G', 'G', 'G', 'G', 'G', 'G', 'G', 'T', 'G', 'G', 'E', 'N', 'N', 'G', 'G', 'G', 'G', 'G', 'G', 'N', 'N', 'G', 'G', 'N', 'N', 'G', 'G', 'G', 'N', 'G', 'G', 'G', 'G', 'G', 'G', 'G', 'G', 'G', 'N', 'L', 'G', 'G', 'G', 'G', 'G', 'N', 'G', 'G', 'G', 'G', 'G', 'G', 'G', 'G', 'T', 'G', 'G', 'T', 'G', 'G', 'G', 'G', 'G', 'G', 'N', 'G', 'G', 'G', 'NOKEY', 'v', 'c', 'N', 'G', 'G', 'G', 'SHIFT', 'N', 'G', 'N', 'G', 'N', 'G', 'N', 'G', 'G', 'G', 'G', 'N', 'G', 'N', 'G', 'G', 'G', 'T', 'N', 'G'\n",
    "        ], 3666),\n",
    "        (2, [\n",
    "            'Q', 'Q', 'W', 'W', 'A', 'A', 'Q', 'W', 'A', 'A', 'A', 'Q', 'W', 'Q', 'd', 'W', 'W', 'Q', 'Q', 'Q', 'A', 'W', 'W', 'Q', 'W', 'A', 'Q', 'Q', 'Q', 'Q', 'E', 'Q', 'A', 'W', 'A', 'W', 'W', 'W', 'A', 'W', 'SHIFT', 'Q', 'c', 'v', 'Q', 'Q', 'Q', 'A', 'Q', 'Q', 'Q', 'A', 'Q', 'A', 'A', 'SHIFT', 'Q', 'A', 'Q', 'A', 'A', 'Q', 'W', 'Q', 'Q', 'Q', 'Q', 'Q', 'Q', 'A', 'W', 'A', 'SHIFT', 'W', 'A', 'A', 'Q', 'Q', 'A', 'Q', 'W', 'A', 'W', 'Q', 'Q', 'A', 'Q', 'Q', 'Q', 'Q', 'Q', 'Q', 'W', 'A', 'SHIFT', 'A', 'W', 'SHIFT', 'A', 'Q', 'Q', 'A', 'SHIFT', 'W', 'A', 'Q', 'd', 'A', \n",
    "        ], 4034),    \n",
    "        (3, [\n",
    "            'P', 'P', 'P', 'P', 'P', 'P', 'P', 'P', 'w', 'P', 'SHIFT', 'P', 'P', 'P', 'P', 'R', 'SHIFT', 'P', 'P', 'P', 'P', 'P', 'P', 'P', 'P', 'P', 'P', 'P', 'm', 'P', 'P', 'P', 'P', 'P', 'P', 'P', 'P', 'P', 'P', 'P', 'P', 'P', 'P', 'P', 'P', 'P', 'SHIFT', 'SHIFT', 'P', 'P', 'P', 'P', 'P', 'P', 'P', 'P', 'P', 'P', 'P', 'P', 'P', 'P', 'P', 'SHIFT', 'P', 'm', 'P', 'SHIFT', 'P', 'P', 'P', 'P', 'P', 'P', 'P', 'P', 'P', 'P', 'P', 'SHIFT', 'P', 'P', 'P', 'P', 'SHIFT', 'SHIFT', 'SHIFT', 'P', 'SHIFT', 'P', 'P', 'P', 'P', 'P', 'P', 'P', '4', 'P', 'P', 'M', 'P', 'P', 'n', 'P', 'P', 'P', 'P', 'M', 'P', 'P', 'P', 'P', 'P', 'P', 'P', 'M', 'P', 'R', 'P', 'P', 'P', 'P', 'P', 'P', 'P', 'P', 'SHIFT', 'SHIFT', 'P', 'P', 'M', 'P', 'P', 'SHIFT', 'P', 'P', 'P', 'P', 'M', 'SHIFT', 'P', \n",
    "        ], 4423),\n",
    "        (4, [\n",
    "            'I', '4', 'NOKEY', 'I', 'K', 'I', 'I', 'K', 'K', 'I', 'I', 'I', 'I', 'K', 'I', 'I', 'I', 'K', 'K', 'I', 'I', 'I', 'I', 'I', 'I', 'I', 'I', 'I', 'I', 'I', 'K', 'I', 'I', 'I', 'K', 'I', 'I', 'I', 'I', 'I', 'I', 'I', 'I', 'I', 'I', 'K', 'I', 'I', 'I', 'I', 'I', 'I', 'I', 'I', 'I', 'I', 'I', 'I', 'I', 'I', 'I', 'I', 'I', 'K', 'K', 'K', 'I', 'I', 'I', 'I', 'I', 'I', 'I', 'I', 'I', 'I', 'I', 'I', 'I', 'I', 'I', 'I', 'I', 'J', 'I', 'I', 'I', 'I', 'I', 'I', 'I', 'I', 'I', 'I', 'I', 'I', 'I', 'I', 'I', 'I', 'I', 'I', 'I', 'I', 'I', 'I', 'I', 'I', 'I', 'I', 'K', 'I', 'I', 'I', 'I', 'I', 'NOKEY', 'I', 'I', 'I', 'I', 'K', 'I', 'I', 'I', 'I', 'K', 'I', 'NOKEY', 'I', 'I', 'I', 'K', 'I', 'I', 'I', 'I', 'I', 'I', 'SHIFT', 'SHIFT', 'I', 'I', 'I', 'I', 'I', 'I', 'I', 'I', 'I', 'SHIFT', 'U',\n",
    "        ], 4824),\n",
    "]\n",
    "\n",
    "\n",
    "for i, seq , start_tmp in letters:\n",
    "    start = find_start_sequence_index(res, seq) or start_tmp \n",
    "    trame_showw(X_login_mdp[start: start + len(seq)], f\"LOGIN - letter N°{i}\", len(seq))"
   ]
  }
 ],
 "metadata": {
  "kernelspec": {
   "display_name": "Python 3",
   "language": "python",
   "name": "python3"
  },
  "language_info": {
   "codemirror_mode": {
    "name": "ipython",
    "version": 3
   },
   "file_extension": ".py",
   "mimetype": "text/x-python",
   "name": "python",
   "nbconvert_exporter": "python",
   "pygments_lexer": "ipython3",
   "version": "3.6.13"
  }
 },
 "nbformat": 4,
 "nbformat_minor": 5
}
